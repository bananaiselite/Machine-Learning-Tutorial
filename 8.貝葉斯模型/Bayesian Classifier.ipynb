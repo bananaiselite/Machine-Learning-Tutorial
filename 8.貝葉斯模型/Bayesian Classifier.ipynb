{
 "cells": [
  {
   "cell_type": "markdown",
   "metadata": {},
   "source": [
    "## Bayesian Classifier"
   ]
  },
  {
   "cell_type": "markdown",
   "metadata": {},
   "source": [
    "我們先來講貝葉斯理論，又稱為貝氏定理\n",
    "\n",
    "先來了解條件機率，條件機率就是**在已知道結果的條件下，去推測出機率**\n",
    "\n"
   ]
  },
  {
   "cell_type": "markdown",
   "metadata": {},
   "source": [
    "<img src=\"pics/example1.png\" alt=\"example1\" style=\"width: 600px\">"
   ]
  },
  {
   "cell_type": "markdown",
   "metadata": {},
   "source": [
    "再來我們講聯合機率，在A，B兩事件不獨立的情況下可以表示成下面的圖\n",
    "\n",
    "<img src=\"pics/ven diagram.png\" alt=\"ven digram\" style=\"width: 500px\">"
   ]
  },
  {
   "cell_type": "markdown",
   "metadata": {},
   "source": [
    "聯合機率公式如下\n",
    "\n",
    "<img src=\"pics/joint probability.png\" alt=\"joint probability\" style=\"width: 500px\">"
   ]
  },
  {
   "cell_type": "markdown",
   "metadata": {},
   "source": [
    "接下來就要來到所謂的貝氏定理，貝氏定理就是 **條件機率** + **聯合機率**"
   ]
  },
  {
   "cell_type": "markdown",
   "metadata": {},
   "source": [
    "<img src=\"pics/Bayes pic1.png\" alt=\"Bayes pic1\" style=\"width: 400px\">"
   ]
  },
  {
   "cell_type": "markdown",
   "metadata": {},
   "source": [
    "<img src=\"pics/Bayes formula1.png\" alt=\"Bayes formula1\" style=\"width: 400px\">"
   ]
  },
  {
   "cell_type": "markdown",
   "metadata": {},
   "source": [
    "接下來就可以推出鼎鼎大名的貝氏定理"
   ]
  },
  {
   "cell_type": "markdown",
   "metadata": {},
   "source": [
    "<img src=\"pics/Bayes formula2.png\" alt=\"Bayes formula2\" style=\"width: 200px\">"
   ]
  },
  {
   "cell_type": "markdown",
   "metadata": {},
   "source": [
    "### 全世界都該懂貝氏定理"
   ]
  },
  {
   "cell_type": "markdown",
   "metadata": {},
   "source": [
    "貝氏定理可以幫助我們判斷背後的邏輯謬誤，脫離思考誤區，增加識別能力，日常生活中就充斥著各種要用到貝氏定理的邏輯思考。"
   ]
  },
  {
   "cell_type": "markdown",
   "metadata": {},
   "source": [
    "舉個例子，逢有人因車禍不幸橫死，當記者報導死者是孝子，我們常唏噓說為何橫死的都是好人？這樣的想法，其實犯了諾貝爾經濟學獎得主、心理學家 Daniel Kahneman 所說的「基率謬誤」（base rate fallacy）。簡單來說，就是沒有把「絕大多數人都是好人」這個「基率」——貝氏定理所謂的先驗機率（prior probability）——納入考量所致。因為絕大多數人都是好人，即使老天爺真的大致上賞善罰惡，橫死的人也會大多是好人，更不用說車禍應該跟善惡無關了。"
   ]
  },
  {
   "cell_type": "markdown",
   "metadata": {},
   "source": [
    "我們來實際算一下，假設100人裡面有1人是壞人，其他99人都是好人。假設90%的壞人都遭車禍橫死，只有10%的好人車禍橫死，這樣算是老天有眼。\n",
    "\n",
    "那今天有人意外橫死，他是好人的機率有多少？\n",
    "\n",
    "用貝氏定理計算：\n",
    "\n",
    "先算出車禍橫死的全機率\n",
    "P(B) = P(B|好人) * P(好人) + P(B|壞人) * P(壞人) = (0.1 * 0.99) + (0.9 * 0.01) = 0.108\n",
    "\n",
    "接著用貝氏定理計算P(A|B) A=>好人 B=>車禍 \n",
    "\n",
    "P(A|B) = P(B|A)*P(A)/ P(B) = \n",
    "\n",
    "(0.1 * 0.99) / 0.108  = 0.917.....\n",
    "\n",
    "用貝氏定理可以算出P(好人|橫死)=0.92，也就是橫死的人中有92%會是「好人」，只有8%是壞人！這正是因為大部分人都是好人，出事的當然容易是好人，即使老天有眼也是一樣。"
   ]
  },
  {
   "cell_type": "markdown",
   "metadata": {},
   "source": [
    "### 先驗機率（prior probability） & 事後機率（posterior probability）\n",
    "\n",
    "<img src=\"pics/posterior prior.png\" alt=\"posterior prior\" style=\"width: 500px\">"
   ]
  },
  {
   "cell_type": "markdown",
   "metadata": {},
   "source": [
    "貝氏定理的原理就是根據新事件的資訊來更新先驗機率（prior probability），這樣算出來的機率便叫做後驗機率（posterior probability）。\n",
    "\n",
    "以前述好人橫死的例子來說，先驗機率的分配是 Pr(好人)=0.99及Pr(壞人)=0.01。在無其他資訊的情況下，我們在街上隨機遇到一個人，此人為好人的機率是0.99。"
   ]
  },
  {
   "cell_type": "markdown",
   "metadata": {},
   "source": [
    "但現在此人被車子撞死了，根據我們對老天有眼的假設（Pr(橫死|好人)=0.1 及 P(橫死|壞人)=0.9），好人不容易橫死，而此人橫死了，這新事件的資訊可以讓我們用貝氏定理來計算後驗機率 P(好人|橫死)=0.92，也就是此人為好人的機率變小。\n",
    "\n",
    "新事件的資訊改變了我們原來的估計，這就是所謂「貝氏更新」（Bayesian updating）。"
   ]
  },
  {
   "cell_type": "markdown",
   "metadata": {},
   "source": [
    "### 三扇門選一，贏得汽車大獎(Monty Hall)"
   ]
  },
  {
   "cell_type": "markdown",
   "metadata": {},
   "source": [
    "三道門中，有一道門後面有一輛汽車，另外兩道門後面各有一隻山羊。"
   ]
  },
  {
   "cell_type": "markdown",
   "metadata": {},
   "source": [
    "主持人要妳挑選一道門，但先不要打開。妳挑定了一道門之後，主持人打開另外兩道門之一，顯示門後有一隻山羊。這時他問妳要維持本來選定的門，還是要換選那一道沒開的門。如果妳選到藏有汽車的那道門，便可贏得汽車，否則便贏到山羊。"
   ]
  },
  {
   "cell_type": "markdown",
   "metadata": {},
   "source": [
    "**你換不換？**"
   ]
  },
  {
   "cell_type": "markdown",
   "metadata": {},
   "source": [
    "答案是要換\n",
    "\n",
    "理由很簡單，並不需要用貝氏定理來算。\n",
    "\n",
    "看這張圖就知道了\n",
    "\n",
    "<img src=\"pics/Monty Hall.png\" alt=\"Monty Hall\" style=\"width: 700px\">"
   ]
  },
  {
   "cell_type": "markdown",
   "metadata": {},
   "source": [
    "當時有一位號稱全世界 IQ 最高的專欄作家 Marilyn vos Savan\n",
    "\n",
    "Marilyn vos Savan在1990年9月9日，於《Parade》雜誌的「請問瑪麗蓮（Ask Marilyn）」專欄中，讀者也請教了她同樣的問題，而瑪麗蓮回答讀者的答案，建議讀者要換。因為換了門之後，贏得汽車的機率，從原本的1/3，提升到了2/3。等於大大提高得到名車的勝算。結果，當時有上萬讀者寫信到雜誌社表達不同意的看法，其中包括許多數學家、統計學家以及博士級的學者，認為她的答案不合理且有違常理和直覺，她也被罵到臭頭。"
   ]
  },
  {
   "cell_type": "markdown",
   "metadata": {},
   "source": [
    "我們用貝葉斯公式來計算一下\n",
    "先有幾個須知要注意一下\n",
    "\n",
    "1. 按照規則，在參賽者選了 1號門之後，主持人就不能開啟 1號門，不論 1號門後面是山羊或汽車都是如此\n",
    "\n",
    "2. 哪一號門會被主持人開啟？這事件的機率皆為條件機率，因為主持人是在已知汽車是在哪一道門後面的前提下做出的選擇\n",
    "\n",
    "3. 主持人理所當然不會開啟後面有汽車的那道門。\n",
    "\n",
    "\n",
    "<img src=\"pics/Monty Hall2.png\" alt=\"Monty Hall2\" style=\"width: 600px\">"
   ]
  },
  {
   "cell_type": "markdown",
   "metadata": {},
   "source": [
    "<img src=\"pics/Monty Hall3.png\" alt=\"Monty Hall3\" style=\"width: 400px\">"
   ]
  },
  {
   "cell_type": "markdown",
   "metadata": {},
   "source": [
    "### 貝葉斯分類器"
   ]
  },
  {
   "cell_type": "markdown",
   "metadata": {},
   "source": [
    "貝葉斯分類器就是透過貝葉斯定理計算樣本在不同類別條件下的條件機率，並取得條件機率最大者作為預測類別。\n",
    "\n",
    "Ex:花園裡有三種花，計算花蕊長度和花苞，分類出目前是三種之中哪一種花\n",
    "\n",
    "最大的可能性就是最大後驗機率(Maximum a posterior, 簡稱MAP)\n",
    "\n",
    "假設有總共有i種分類 {W<sub>1</sub>, W<sub>2</sub>, W<sub>3</sub>, ..., W<sub>i</sub>}， 今天X會被分到哪一類？\n",
    "\n",
    "寫成後驗機率就是p(W<sub>i</sub>|X)\n",
    "\n",
    "最大後驗機率就寫成 arg max( p(W<sub>i</sub>|X) )\n",
    "\n",
    "\n"
   ]
  },
  {
   "cell_type": "markdown",
   "metadata": {},
   "source": [
    "<img src=\"pics/Bayes formula3.png\" alt=\"Bayes formula3\" style=\"width: 300px\">"
   ]
  },
  {
   "cell_type": "markdown",
   "metadata": {},
   "source": [
    "貝葉斯定理的一般形式包括分母，但在實際應用中，通常不需要計算 P(X)，因為它是一個正規化常數（normalizing constant），在計算上可能非常困難或耗時，但不會影響結論。因為我們主要關心的是後驗機率的相對大小，而不是絕對大小，因此可以簡化成下面的公式。\n",
    "\n",
    "<img src=\"pics/Bayes formula4.png\" alt=\"Bayes formula4\" style=\"width: 300px\">"
   ]
  },
  {
   "cell_type": "markdown",
   "metadata": {},
   "source": [
    "最後的目標就是\n",
    "\n",
    "<img src=\"pics/Bayes formula5.png\" alt=\"Bayes formula5\" style=\"width: 600px\">"
   ]
  },
  {
   "cell_type": "code",
   "execution_count": 5,
   "metadata": {},
   "outputs": [
    {
     "data": {
      "text/html": [
       "<div>\n",
       "<style scoped>\n",
       "    .dataframe tbody tr th:only-of-type {\n",
       "        vertical-align: middle;\n",
       "    }\n",
       "\n",
       "    .dataframe tbody tr th {\n",
       "        vertical-align: top;\n",
       "    }\n",
       "\n",
       "    .dataframe thead th {\n",
       "        text-align: right;\n",
       "    }\n",
       "</style>\n",
       "<table border=\"1\" class=\"dataframe\">\n",
       "  <thead>\n",
       "    <tr style=\"text-align: right;\">\n",
       "      <th></th>\n",
       "      <th>天氣</th>\n",
       "      <th>溫度</th>\n",
       "      <th>活動</th>\n",
       "    </tr>\n",
       "  </thead>\n",
       "  <tbody>\n",
       "    <tr>\n",
       "      <th>0</th>\n",
       "      <td>晴</td>\n",
       "      <td>熱</td>\n",
       "      <td>取消</td>\n",
       "    </tr>\n",
       "    <tr>\n",
       "      <th>1</th>\n",
       "      <td>晴</td>\n",
       "      <td>熱</td>\n",
       "      <td>取消</td>\n",
       "    </tr>\n",
       "    <tr>\n",
       "      <th>2</th>\n",
       "      <td>陰</td>\n",
       "      <td>熱</td>\n",
       "      <td>進行</td>\n",
       "    </tr>\n",
       "    <tr>\n",
       "      <th>3</th>\n",
       "      <td>雨</td>\n",
       "      <td>中</td>\n",
       "      <td>進行</td>\n",
       "    </tr>\n",
       "    <tr>\n",
       "      <th>4</th>\n",
       "      <td>雨</td>\n",
       "      <td>冷</td>\n",
       "      <td>進行</td>\n",
       "    </tr>\n",
       "    <tr>\n",
       "      <th>5</th>\n",
       "      <td>雨</td>\n",
       "      <td>冷</td>\n",
       "      <td>取消</td>\n",
       "    </tr>\n",
       "    <tr>\n",
       "      <th>6</th>\n",
       "      <td>陰</td>\n",
       "      <td>冷</td>\n",
       "      <td>進行</td>\n",
       "    </tr>\n",
       "    <tr>\n",
       "      <th>7</th>\n",
       "      <td>晴</td>\n",
       "      <td>中</td>\n",
       "      <td>取消</td>\n",
       "    </tr>\n",
       "    <tr>\n",
       "      <th>8</th>\n",
       "      <td>晴</td>\n",
       "      <td>冷</td>\n",
       "      <td>進行</td>\n",
       "    </tr>\n",
       "    <tr>\n",
       "      <th>9</th>\n",
       "      <td>雨</td>\n",
       "      <td>中</td>\n",
       "      <td>進行</td>\n",
       "    </tr>\n",
       "    <tr>\n",
       "      <th>10</th>\n",
       "      <td>晴</td>\n",
       "      <td>中</td>\n",
       "      <td>進行</td>\n",
       "    </tr>\n",
       "    <tr>\n",
       "      <th>11</th>\n",
       "      <td>陰</td>\n",
       "      <td>中</td>\n",
       "      <td>進行</td>\n",
       "    </tr>\n",
       "    <tr>\n",
       "      <th>12</th>\n",
       "      <td>陰</td>\n",
       "      <td>熱</td>\n",
       "      <td>進行</td>\n",
       "    </tr>\n",
       "    <tr>\n",
       "      <th>13</th>\n",
       "      <td>雨</td>\n",
       "      <td>中</td>\n",
       "      <td>取消</td>\n",
       "    </tr>\n",
       "  </tbody>\n",
       "</table>\n",
       "</div>"
      ],
      "text/plain": [
       "   天氣 溫度  活動\n",
       "0   晴  熱  取消\n",
       "1   晴  熱  取消\n",
       "2   陰  熱  進行\n",
       "3   雨  中  進行\n",
       "4   雨  冷  進行\n",
       "5   雨  冷  取消\n",
       "6   陰  冷  進行\n",
       "7   晴  中  取消\n",
       "8   晴  冷  進行\n",
       "9   雨  中  進行\n",
       "10  晴  中  進行\n",
       "11  陰  中  進行\n",
       "12  陰  熱  進行\n",
       "13  雨  中  取消"
      ]
     },
     "execution_count": 5,
     "metadata": {},
     "output_type": "execute_result"
    }
   ],
   "source": [
    "# Naive Bayesian classify\n",
    "import pandas as pd\n",
    "\n",
    "df = pd.read_csv(\"data.csv\")\n",
    "df"
   ]
  },
  {
   "cell_type": "code",
   "execution_count": 28,
   "metadata": {},
   "outputs": [
    {
     "data": {
      "text/plain": [
       "活動\n",
       "進行    0.642857\n",
       "取消    0.357143\n",
       "Name: count, dtype: float64"
      ]
     },
     "execution_count": 28,
     "metadata": {},
     "output_type": "execute_result"
    }
   ],
   "source": [
    "import numpy as np\n",
    "\n",
    "total_len = len(df)\n",
    "\n",
    "# 假設我們今天觀測到 天氣：晴 溫度：適中\n",
    "\n",
    "y= df[\"活動\"]\n",
    "\n",
    "y.value_counts()/total_len"
   ]
  },
  {
   "cell_type": "markdown",
   "metadata": {},
   "source": [
    "假設我們今天觀測到 天氣：晴 溫度：適中"
   ]
  },
  {
   "cell_type": "markdown",
   "metadata": {},
   "source": [
    "先來算取消\n",
    "\n",
    "P(取消|天氣=晴,溫度=適中) = P(取消)P(天氣=晴|取消)P(溫度=適中|取消)"
   ]
  },
  {
   "cell_type": "code",
   "execution_count": 38,
   "metadata": {},
   "outputs": [
    {
     "data": {
      "text/plain": [
       "0.08571428571428572"
      ]
     },
     "execution_count": 38,
     "metadata": {},
     "output_type": "execute_result"
    }
   ],
   "source": [
    "# P(天氣=晴|取消)\n",
    "prior1 = len(df[(df[\"活動\"] == \"取消\") & (df[\"天氣\"] == \"晴\")])/len(df[(df[\"活動\"] == \"取消\")])\n",
    "\n",
    "# P(氣溫=中|取消)\n",
    "prior2 = len(df[(df[\"活動\"] == \"取消\") & (df[\"溫度\"] == \"中\")])/len(df[(df[\"活動\"] == \"取消\")])\n",
    "\n",
    "# P(取消)P(天氣=晴|取消)P(溫度=中|取消)\n",
    "(y.value_counts()/total_len)[\"取消\"] * prior1 * prior2"
   ]
  },
  {
   "cell_type": "markdown",
   "metadata": {},
   "source": [
    "再來算進行\n",
    "\n",
    "P(進行)P(天氣=晴|進行)P(溫度=適中|進行)"
   ]
  },
  {
   "cell_type": "code",
   "execution_count": 39,
   "metadata": {},
   "outputs": [
    {
     "data": {
      "text/plain": [
       "0.06349206349206349"
      ]
     },
     "execution_count": 39,
     "metadata": {},
     "output_type": "execute_result"
    }
   ],
   "source": [
    "# P(天氣=晴|進行)\n",
    "prior1 = len(df[(df[\"活動\"] == \"進行\") & (df[\"天氣\"] == \"晴\")])/len(df[(df[\"活動\"] == \"進行\")])\n",
    "\n",
    "# P(溫度=晴|中)\n",
    "prior2 = len(df[(df[\"活動\"] == \"進行\") & (df[\"溫度\"] == \"中\")])/len(df[(df[\"活動\"] == \"進行\")])\n",
    "\n",
    "# P(取消)P(天氣=晴|進行)P(溫度=適中|進行)\n",
    "(y.value_counts()/total_len)[\"進行\"] * prior1 * prior2"
   ]
  },
  {
   "cell_type": "markdown",
   "metadata": {},
   "source": [
    "argmax(0.063， 0.0857)，很明顯貝葉斯分類器會把活動結果分在取消\n",
    "\n",
    "最後也可以計算出在 天氣晴 氣溫中的情況下 取消的機率為 0.0857 / (0.063 + 0.0857) = 0.5745"
   ]
  },
  {
   "cell_type": "markdown",
   "metadata": {},
   "source": [
    "-----------"
   ]
  },
  {
   "cell_type": "markdown",
   "metadata": {},
   "source": [
    "去掉單純貝葉斯(就是純公式計算)，貝葉斯分類器總共有分三種，差別只在於分佈機率的不同\n",
    "\n",
    "1. **高斯貝式分類器 GaussianNB** : 主要用於特徵為連續變數並符合符合常態分佈，像是年紀大小與罹患癌症的機率、體重大小與罹患心血管疾病的機率...等。\n",
    "\n",
    "2. **多項式貝氏分類器 MultinomialNB** : 多項式貝氏分類器主要用在特徵為離散變數的情況，比方說次數、類別等等。像是公司人數與員工工作效能的關係、商品不良數與員工偷懶的機率...等\n",
    "\n",
    "3. **伯努力貝氏分類器 BernoulliNB**：與多項式的模型一樣，伯努力貝氏分類器也適用於離散特徵的狀況，但不同的是伯努力模型的特徵取值只能是 1 和 0 的二元特徵。比方說某個單字曾在該文章內出現過，則該篇文章特徵值為 1 ，沒有出現則是 0 。"
   ]
  },
  {
   "cell_type": "markdown",
   "metadata": {},
   "source": [
    "### GaussianNB實現"
   ]
  },
  {
   "cell_type": "markdown",
   "metadata": {},
   "source": [
    "高斯貝氏分類器和單純貝氏分類器的差別就在於likelihood"
   ]
  },
  {
   "cell_type": "markdown",
   "metadata": {},
   "source": [
    "<img src=\"pics/Bayes Gaussain formula.png\" alt=\"Bayes Gaussain formula\" style=\"width: 600px\">"
   ]
  },
  {
   "cell_type": "code",
   "execution_count": 6,
   "metadata": {},
   "outputs": [],
   "source": [
    "import numpy as np\n",
    "from sklearn.datasets import make_blobs"
   ]
  },
  {
   "cell_type": "code",
   "execution_count": 7,
   "metadata": {},
   "outputs": [],
   "source": [
    "X, y = make_blobs(n_samples=20, centers=[(0,0), (5,5), (-5, 5)], random_state=0)"
   ]
  },
  {
   "cell_type": "code",
   "execution_count": 8,
   "metadata": {},
   "outputs": [
    {
     "data": {
      "image/png": "[encoded data removed]",
      "text/plain": [
       "<Figure size 1600x800 with 1 Axes>"
      ]
     },
     "metadata": {},
     "output_type": "display_data"
    }
   ],
   "source": [
    "import matplotlib.pyplot as plt\n",
    "plt.style.use('fivethirtyeight')\n",
    "\n",
    "plt.figure(figsize=(16, 8))\n",
    "for i in range(3):\n",
    "    plt.scatter(X[np.where(y==i), 0], X[np.where(y==i), 1], s=200, label=f'Class $c_{i+1}$')\n",
    "plt.scatter([-2], [5], c='k', s=200)\n",
    "plt.annotate('$x*$', (-1.9, 4.7))\n",
    "plt.xlabel('$x_1$')\n",
    "plt.ylabel('$x_2$')\n",
    "plt.legend()\n",
    "\n",
    "plt.show()"
   ]
  },
  {
   "cell_type": "code",
   "execution_count": 9,
   "metadata": {},
   "outputs": [],
   "source": [
    "import numpy as np\n",
    "from sklearn.base import BaseEstimator, ClassifierMixin\n",
    "\n",
    "\"\"\"\n",
    "BaseEstimator 定義了一些方法的模板，這些方法包括 fit、predict、score 等，這些方法是一個機器學習模型應該實現的核心功能，\n",
    "為機器學習模型提供了一個統一的模型接口，以確保模型的一致性和互換性。這有助於開發者更容易地建立自己的模型，使其適應 Scikit-Learn 的生態系統。\n",
    "當開發一個新的機器學習模型時，通常建議繼承自 BaseEstimator，以確保模型符合 Scikit-Learn 的標準\n",
    "\n",
    "ClassifierMixin 定義了 predict(X) 和 predict_proba(X) 方法，分別用於進行類別預測和概率估計。\n",
    "這是機器學習模型的核心功能之一，並且使你的模型能夠遵守 Scikit-Learn 的預測標準\n",
    "\n",
    "維持Scikit-Learn中的模型遵守一致的介面和規則，使得不同模型之間可以無縫地交互並進行比。\n",
    "\"\"\"\n",
    "from sklearn.utils.validation import check_X_y, check_array, check_is_fitted\n"
   ]
  },
  {
   "cell_type": "code",
   "execution_count": 28,
   "metadata": {},
   "outputs": [],
   "source": [
    "class GaussianNaiveBayesClassifier(BaseEstimator, ClassifierMixin):\n",
    "\n",
    "    def fit(self, X, y):\n",
    "        \n",
    "        # 檢查輸入X, y是否符合sklearn的訓練格式\n",
    "        X, y = check_X_y(X, y)\n",
    "        # 計算每一種分類的前驗機率\n",
    "        self.priors_ = np.bincount(y) / len(y)\n",
    "        # 總共幾種分類\n",
    "        self.n_classes_ = np.max(y) + 1\n",
    "        # 分別計算每個種類的平均和標準差\n",
    "        self.means_ = np.array([X[np.where(y==i)].mean(axis=0) for i in range(self.n_classes_)])\n",
    "        self.stds_ = np.array([X[np.where(y==i)].std(axis=0) for i in range(self.n_classes_)])\n",
    "        # 返回模型本身\n",
    "        return self\n",
    "    \n",
    "    def predict_proba(self, X):\n",
    "        \n",
    "        # 確保模型已經被訓練過\n",
    "        check_is_fitted(self)\n",
    "        # 確保為array格式\n",
    "        X = check_array(X)\n",
    "\n",
    "        res = []\n",
    "\n",
    "        for i in range(len(X)):\n",
    "\n",
    "            probas = []\n",
    "\n",
    "            for j in range(self.n_classes_):\n",
    "\n",
    "                likelihood = 1/np.sqrt(2*np.pi*self.stds_[j]**2) * np.exp(-0.5*((X[i]-self.means_[j]) / self.stds_[j])**2)\n",
    "                posterior = likelihood.prod()*self.priors_[j]\n",
    "                probas.append(posterior)\n",
    "                # 當特徵數很多的時候，相乘之下所算出的機率值會非常小\n",
    "                # 最後出來的後驗機率非常趨近於0在程式運算上面容易因為儲存問題而造成偏誤，這時我們就可以透過取log的方式來避免這樣的問題。\n",
    "                # log_posterior = np.log(likelihood.prod())*self.priors_[j]\n",
    "                # probas.append(log_posterior)\n",
    "\n",
    "            probas = np.array(probas)\n",
    "            # 將每個類別的概率normalize為總和為1，以獲得條件概率\n",
    "            res.append(probas / probas.sum())\n",
    "            \n",
    "        return np.array(res)\n",
    "    \n",
    "    def predict(self, X):\n",
    "        check_is_fitted(self)\n",
    "        X = check_array(X)\n",
    "        \n",
    "        res = self.predict_proba(X)\n",
    "        \n",
    "        return res.argmax(axis=1)"
   ]
  },
  {
   "cell_type": "code",
   "execution_count": 29,
   "metadata": {},
   "outputs": [],
   "source": [
    "test_data = [[-2, 5], [0,0], [6, -0.3]]"
   ]
  },
  {
   "cell_type": "code",
   "execution_count": 30,
   "metadata": {},
   "outputs": [
    {
     "data": {
      "text/plain": [
       "array([[8.06313823e-07, 1.36201957e-04, 9.99862992e-01],\n",
       "       [1.00000000e+00, 4.23258691e-14, 1.92051255e-11],\n",
       "       [4.30879705e-01, 5.69120295e-01, 9.66618838e-27]])"
      ]
     },
     "execution_count": 30,
     "metadata": {},
     "output_type": "execute_result"
    }
   ],
   "source": [
    "\n",
    "my_gauss = GaussianNaiveBayesClassifier()\n",
    "my_gauss.fit(X, y)\n",
    "my_gauss.predict_proba(test_data)"
   ]
  },
  {
   "cell_type": "code",
   "execution_count": 32,
   "metadata": {},
   "outputs": [
    {
     "data": {
      "text/plain": [
       "array([2, 0, 1])"
      ]
     },
     "execution_count": 32,
     "metadata": {},
     "output_type": "execute_result"
    }
   ],
   "source": [
    "my_gauss.predict(test_data)"
   ]
  },
  {
   "cell_type": "code",
   "execution_count": 31,
   "metadata": {},
   "outputs": [
    {
     "data": {
      "text/plain": [
       "array([[8.06313823e-07, 1.36201957e-04, 9.99862992e-01],\n",
       "       [1.00000000e+00, 4.23258691e-14, 1.92051255e-11],\n",
       "       [4.30879705e-01, 5.69120295e-01, 9.66618838e-27]])"
      ]
     },
     "execution_count": 31,
     "metadata": {},
     "output_type": "execute_result"
    }
   ],
   "source": [
    "from sklearn.naive_bayes import GaussianNB\n",
    "\n",
    "gnb = GaussianNB(var_smoothing=0)\n",
    "gnb.fit(X, y)\n",
    "gnb.predict_proba(test_data)"
   ]
  },
  {
   "cell_type": "code",
   "execution_count": 33,
   "metadata": {},
   "outputs": [
    {
     "data": {
      "text/plain": [
       "array([2, 0, 1])"
      ]
     },
     "execution_count": 33,
     "metadata": {},
     "output_type": "execute_result"
    }
   ],
   "source": [
    "gnb.predict(test_data)"
   ]
  },
  {
   "cell_type": "code",
   "execution_count": 45,
   "metadata": {},
   "outputs": [
    {
     "data": {
      "image/png": "[encoded data removed]",
      "text/plain": [
       "<Figure size 1600x800 with 1 Axes>"
      ]
     },
     "metadata": {},
     "output_type": "display_data"
    }
   ],
   "source": [
    "import matplotlib.pyplot as plt\n",
    "\n",
    "plt.figure(figsize=(16, 8))\n",
    "# 定義網格步長\n",
    "h = 0.02\n",
    "# 定義 x 和 y 軸的範圍\n",
    "x_min, x_max = X[:, 0].min() - 1, X[:, 0].max() + 1\n",
    "y_min, y_max = X[:, 1].min() - 1, X[:, 1].max() + 1\n",
    "# 使用 np.meshgrid 創建網格點的座標\n",
    "xx, yy = np.meshgrid(np.arange(x_min, x_max, h), np.arange(y_min, y_max, h))\n",
    "\n",
    "# print(np.c_[xx.ravel(), yy.ravel()].shape)\n",
    "# print(np.c_[xx.ravel(), yy.ravel()])\n",
    "\n",
    "# np.c_ : 把兩個矩陣左右連接，要求行數相等\n",
    "# 這裡用它將 xx 和 yy 矩陣中的點坐標合併成一個矩陣，以便進行預測\n",
    "points_to_predict = np.c_[xx.ravel(), yy.ravel()]\n",
    "\n",
    "# 使用 gnb（高斯朴素貝葉斯分類器）對這些點進行預測，獲得每個點的預測類別\n",
    "Z = gnb.predict(points_to_predict)\n",
    "\n",
    "# 將預測結果重新整形成與網格相同的形狀，以便繪製決策區域\n",
    "Z = Z.reshape(xx.shape)\n",
    "\n",
    "# 使用 plt.contourf 函數繪製輪廓填充圖，顯示不同類別的區域\n",
    "# cmap 參數指定了填充顏色的選擇，alpha 參數設置了填充的透明度\n",
    "plt.contourf(xx, yy, Z, cmap=plt.cm.RdYlBu, alpha=0.3)\n",
    "\n",
    "# 繪製散點圖\n",
    "for i in range(3):\n",
    "    plt.scatter(X[y == i, 0], X[y == i, 1], s=200, label=f'Class {i}')\n",
    "plt.scatter([-2, 0, 6], [5, 0, -0.3], c='k', s=200, label='New Points')\n",
    "\n",
    "# 添加軸標籤和標題\n",
    "plt.xlabel('$x_1$')\n",
    "plt.ylabel('$x_2$')\n",
    "plt.title('Decision Regions')\n",
    "\n",
    "\n",
    "plt.legend()\n",
    "\n",
    "plt.show()\n"
   ]
  },
  {
   "cell_type": "markdown",
   "metadata": {},
   "source": [
    "### MultinomialNB"
   ]
  },
  {
   "cell_type": "markdown",
   "metadata": {},
   "source": [
    "繼高斯貝葉斯分類器後最廣為人知的貝式分類器，是根據多項分佈(multinomial distribution)去實現的。\n",
    "\n",
    "<img src=\"pics/multinomial distribution.png\" alt=\"multinomial distribution\" style=\"width: 600px\">"
   ]
  },
  {
   "cell_type": "markdown",
   "metadata": {},
   "source": [
    "該假設機率分佈是在各項結果互不干涉的前提下，也就是P(x<sub>i</sub>|Y)的為離散機率，並且在不同的x<sub>i</sub>之下，P(x<sub>i</sub>|Y)互相獨立，雖然MultinomialNB可以處理連續形變數，但在處理連續行的資料時，還是應該使用高斯樸素貝葉斯。\n",
    "\n",
    "要注意的是，多項式的實驗中結果通常不會出現負數，往往都是次數，頻率，技術，出現與否這樣的概念，因此在sklearn中的多項式樸素貝葉斯是不接受複數的。\n",
    "\n",
    "由於處理的都是該離散性的特徵，多項式樸素貝葉斯的特徵矩陣經常是**稀疏矩陣**，舉個例子：\n",
    "擲骰子，紀錄該點數是否出現呈現方式如下：\n",
    "\n",
    "<img src=\"pics/multinomial distribution example.png\" alt=\"multinomial distribution example\" style=\"width: 800px\">"
   ]
  },
  {
   "cell_type": "markdown",
   "metadata": {},
   "source": [
    "再來複習一下\n",
    "\n",
    "<img src=\"pics/Bayes formula3.png\" alt=\"Bayes formula3\" style=\"width: 300px\">"
   ]
  },
  {
   "cell_type": "markdown",
   "metadata": {},
   "source": [
    "要記算的Likelihood為：\n",
    "\n",
    "<img src=\"pics/multinomial bayes likelihood.png\" alt=\"multinomial bayes likelihood\" style=\"width: 300px\">"
   ]
  },
  {
   "cell_type": "markdown",
   "metadata": {},
   "source": [
    "但是，我們在分割訓練集和測試集時，無法保證每一種分類都會出現在訓練集，舉個例子，把每一個單詞當成feature去訓練垃圾信件分類器，但是再之後收到的信件很難保證全部的字詞都被訓練過，便會導致**零機率**的情形。\n",
    "\n",
    "因此我們會加上一個常數ɑ來避免這種情形，這種技巧稱之為平滑化(smooth)\n",
    "\n",
    "<img src=\"pics/multinomial bayes likelihood smooth.png\" alt=\"multinomial bayes likelihood smooth\" style=\"width: 300px\">\n",
    "\n",
    "𝛼\n",
    "  is the smoothing parameter,\n",
    "\n",
    "𝑁𝑦𝑖\n",
    " is the count of feature 𝑥𝑖\n",
    " in class y.\n",
    "\n",
    "𝑁𝑦\n",
    " is the total count of all features in class y\n",
    " \n",
    "𝑛\n",
    " is the total number of features\n"
   ]
  },
  {
   "cell_type": "markdown",
   "metadata": {},
   "source": [
    "如果alpha設為1，則該平滑稱為拉普拉斯平滑，如果小於1，我們則稱為利德斯通平滑，兩種平滑都屬於NLP中常用的平滑手段。"
   ]
  },
  {
   "cell_type": "markdown",
   "metadata": {},
   "source": [
    "上面的θ"
   ]
  },
  {
   "cell_type": "code",
   "execution_count": 2,
   "metadata": {},
   "outputs": [],
   "source": [
    "import numpy as np\n",
    "from sklearn.datasets import make_blobs\n",
    "\n",
    "X, y = make_blobs(n_samples=20, centers=[(0,0), (5,5), (-5, 5)], random_state=0)"
   ]
  },
  {
   "cell_type": "code",
   "execution_count": 77,
   "metadata": {},
   "outputs": [],
   "source": [
    "import numpy as np\n",
    "from sklearn.base import BaseEstimator, ClassifierMixin\n",
    "from sklearn.utils.validation import check_X_y, check_array, check_is_fitted\n",
    "\n",
    "class MultiNB():\n",
    "    def __init__(self,alpha=1):\n",
    "        self.alpha = alpha\n",
    "    \n",
    "    def _prior(self, y): # CHECKED\n",
    "        \"\"\"\n",
    "        Calculates prior for each unique class in y. P(y)\n",
    "        \"\"\"\n",
    "        # 初始化一個儲存先驗機率的zero array\n",
    "        prior = np.zeros((self.n_classes_))\n",
    "  \n",
    "        # np.unique返回兩個值， 唯一值和出現次數\n",
    "        _, self.dist = np.unique(y, return_counts=True)\n",
    "        # 各種類出現的機率儲存在矩陣中\n",
    "        for i in range(self.n_classes_):\n",
    "            # 各種類出現次數/全部種類加起來的次數\n",
    "            prior[i] = self.dist[i] / self.n_samples\n",
    "            \n",
    "        return prior\n",
    "            \n",
    "    def fit(self, X, y): # CHECKED, matches with sklearn\n",
    "\n",
    "        X, y = check_X_y(X, y)\n",
    "        self.n_samples, self.n_features = X.shape\n",
    "        #  總共有幾類，取出唯一值\n",
    "        self.classes_ = np.unique(y)\n",
    "        # 由target去計算總共有幾個種類\n",
    "        self.n_classes_ = len(np.unique(y))\n",
    "        # 計算每一個種類的分別的先驗機率\n",
    "        self.class_priors_ = self._prior(y)\n",
    "        \n",
    "        # distinct values in each features\n",
    "        self.uniques = []\n",
    "        \n",
    "        # 遍歷每一個feature\n",
    "        for i in range(self.n_features):\n",
    "            # 取出每一個feature的唯一值\n",
    "            tmp = np.unique(X[:,i])\n",
    "            self.uniques.append(tmp)\n",
    "            \n",
    "        self.N_yi = np.zeros((self.n_classes_ , self.n_features)) # feature count\n",
    "        self.N_y = np.zeros((self.n_classes_ )) # total count \n",
    "        # 遍歷所一個分類(class)的唯一值\n",
    "        for c in self.classes_: \n",
    "            # 找出該分類的index\n",
    "            indices = np.argwhere(y==c).flatten()\n",
    "\n",
    "            columnwise_sum = []\n",
    "            # 儲存每一個P(xi|yi)\n",
    "            for j in range(self.n_features): \n",
    "                columnwise_sum.append(np.sum(X[indices,j]))  \n",
    "            # 在class相對應的index儲存每一個P(xi|yi)\n",
    "            self.N_yi[c] = columnwise_sum\n",
    "\n",
    "            # 在class相對應的index儲存存每一個P(yi)\n",
    "            self.N_y[c] = np.sum(columnwise_sum) \n",
    "            \n",
    "    def _theta(self, x_i, i, h):\n",
    "        \"\"\"\n",
    "        x_i: feature xi\n",
    "        i: feature index.\n",
    "        h: a class in y\n",
    "        \"\"\"\n",
    "\n",
    "        Nyi = self.N_yi[h,i]\n",
    "        Ny  = self.N_y[h]\n",
    "        \n",
    "        numerator = Nyi + self.alpha\n",
    "        denominator = Ny + (self.alpha * self.n_features)\n",
    "        \n",
    "        # 根據每一個特徵進行likelihood的加權，以考慮特徵的影響\n",
    "        return  (numerator / denominator)**x_i\n",
    "    \n",
    "    def _likelyhood(self, x, h):\n",
    "        \"\"\"\n",
    "        Calculates P(xi|Y) = P(x1|yi) * P(x2|yi) .. * P(xn|yi).\n",
    "        \"\"\"\n",
    "\n",
    "        tmp = []\n",
    "        for i in range(x.shape[0]):\n",
    "            \n",
    "            tmp.append(self._theta(x[i], i, h))\n",
    "        # P(X|y) = p(x1|y) * p(x2|y) ... \n",
    "        return np.prod(tmp)\n",
    "    \n",
    "    def predict_proba(self, X):\n",
    "\n",
    "        samples, features = X.shape\n",
    "        self.predict_proba = np.zeros((samples, self.n_classes_))\n",
    "        # 遍歷每一個sample\n",
    "        for i in range(samples):\n",
    "            # 初始化種類的後驗機率array\n",
    "            # 例如3種 ，初始化為[0.0, 0.0, 0.0]\n",
    "            posterior = np.zeros((self.n_classes_))\n",
    "            # 儲存每一個種類的後驗機率\n",
    "            for h in range(self.n_classes_):\n",
    "                # 更新[ p1, p2, p3]\n",
    "                posterior[h]  = self.class_priors_[h] * self._likelyhood(X[i],h) # P(y) * P(X|y) \n",
    "\n",
    "            # normalize\n",
    "            denominator = np.sum(posterior)\n",
    "            self.predict_proba[i] = posterior / denominator\n",
    "\n",
    "        return self.predict_proba\n",
    "    \n",
    "    def predict(self, X):\n",
    "        \n",
    "        indices = np.argmax(self.predict_proba(X),axis=1)\n",
    "\n",
    "        return self.classes_[indices]"
   ]
  },
  {
   "cell_type": "code",
   "execution_count": 78,
   "metadata": {},
   "outputs": [],
   "source": [
    "from sklearn import datasets\n",
    "from sklearn.model_selection import train_test_split\n",
    "\n",
    "iris = datasets.load_iris()  #load進iris的資料庫\n",
    "\n",
    "features = iris.feature_names\n",
    "X = iris.data  \n",
    "y = iris.target\n",
    "\n",
    "X_train, X_test, y_train, y_test = train_test_split(X, y, test_size=0.3)  \n"
   ]
  },
  {
   "cell_type": "code",
   "execution_count": 79,
   "metadata": {},
   "outputs": [
    {
     "data": {
      "text/plain": [
       "array([1, 2, 1, 2, 1, 0, 0, 0, 2, 0, 1, 0, 2, 2, 1, 2, 0, 2, 0, 0, 2, 1,\n",
       "       1, 2, 0, 0, 1, 0, 0, 1, 2, 1, 2, 2, 2, 2, 0, 1, 1, 0, 0, 2, 2, 0,\n",
       "       1])"
      ]
     },
     "execution_count": 79,
     "metadata": {},
     "output_type": "execute_result"
    }
   ],
   "source": [
    "clf = MultiNB()\n",
    "clf.fit(X_train, y_train) \n",
    "clf.predict(X_test)"
   ]
  },
  {
   "cell_type": "code",
   "execution_count": 80,
   "metadata": {},
   "outputs": [
    {
     "data": {
      "text/plain": [
       "array([1, 2, 1, 2, 1, 0, 0, 0, 2, 0, 1, 0, 2, 2, 1, 2, 0, 2, 0, 0, 2, 1,\n",
       "       1, 2, 0, 0, 1, 0, 0, 1, 2, 1, 2, 2, 2, 2, 0, 1, 1, 0, 0, 2, 2, 0,\n",
       "       1])"
      ]
     },
     "execution_count": 80,
     "metadata": {},
     "output_type": "execute_result"
    }
   ],
   "source": [
    "from sklearn.naive_bayes import MultinomialNB\n",
    "\n",
    "clf = MultinomialNB()\n",
    "clf.fit(X_train, y_train) \n",
    "clf.predict(X_test)"
   ]
  },
  {
   "cell_type": "markdown",
   "metadata": {},
   "source": [
    "### BernoulliNB\n",
    "\n",
    "伯努力貝氏分類器是根據伯努力分佈(bernoulli distribution)，也就是俗稱的二項式分佈(binomial distribution)去實現的。\n",
    "\n",
    "來講一下白努力分佈\n",
    "\n",
    "想像有一枚硬幣，正面朝上用y=1，反面朝上為y=0，在θ的條件下，正面朝上的機率為p，則可表示為\n",
    "\n",
    "<img src=\"pics/bernulli 1.png\" alt=\"bernulli 1\" style=\"width: 300px\">"
   ]
  },
  {
   "cell_type": "markdown",
   "metadata": {},
   "source": [
    "丟N次硬幣的Likelihood可以記為：\n",
    "\n",
    "<img src=\"pics/bernulli 2.png\" alt=\"bernulli 2\" style=\"width: 300px\">"
   ]
  },
  {
   "cell_type": "markdown",
   "metadata": {},
   "source": [
    "而BernoulliNB的公式就可以寫成\n",
    "\n",
    "<img src=\"pics/bernulli 3.png\" alt=\"bernulli 3\" style=\"width: 300px\">"
   ]
  },
  {
   "cell_type": "markdown",
   "metadata": {},
   "source": [
    "二項式貝葉斯其實就是多項式貝葉斯的二元版，兩者都常用於處理文本分類．但二項式分佈更像是\"是否出現\"，不是多項式在意的出現多少次，這樣根本性的不同讓二項式在處理短文本的時候效果會更好(不過其實都試試看就行)，我們來直接看Sklearn的使用方法"
   ]
  },
  {
   "cell_type": "code",
   "execution_count": 84,
   "metadata": {},
   "outputs": [
    {
     "name": "stdout",
     "output_type": "stream",
     "text": [
      "[3]\n"
     ]
    }
   ],
   "source": [
    "import numpy as np\n",
    "from sklearn.naive_bayes import BernoulliNB\n",
    "rng = np.random.RandomState(1)\n",
    "X = rng.randint(5, size=(6, 100))\n",
    "Y = np.array([1, 2, 3, 4, 4, 5])\n",
    "\n",
    "clf = BernoulliNB()\n",
    "clf.fit(X, Y)\n",
    "\n",
    "print(clf.predict(X[2:3]))"
   ]
  },
  {
   "cell_type": "markdown",
   "metadata": {},
   "source": [
    "樸素貝葉斯算法不需要調參，相比其他的分類演算法，例如Kmeans和決策樹基本都需要調參，樸素貝葉斯受訓練集的誤差影響較大，例如樣本不平衡，或是二值化的閾值該如何提取。原因都出現在貝葉斯的\"樸素假設\"，也就是以一個分佈為前提去做假設，為了解決貝葉斯過度受資料影響的缺點，因此出現了complement naive Bayes(CNB)，在某些程度上的表現已經能優於多項式貝葉斯。\n",
    "\n",
    "**樸素貝葉斯算法優點：**\n",
    "\n",
    "1、樸素貝葉斯模型發源於古典數學理論，有穩定的分類效率。\n",
    "\n",
    "2、對缺失數據不太敏感(缺詞少句)，算法也比較簡單，常用於文本分類。\n",
    "\n",
    "3、分類準確度高，速度快\n",
    "\n",
    "樸素貝葉斯算法缺點\n",
    "\n",
    "1、需要知道先驗概率P(F1,F2,…|C)，因此在某些時候會由於假設的先驗模型的原因導致預測效果不佳。(要求特徵詞之間相互獨立)\n",
    "\n",
    "2、受訓練集的誤差(特徵詞的提取，例如某篇文章有大量相同的詞)影響較大。\n",
    "\n",
    "3、不能進行調參調優"
   ]
  }
 ],
 "metadata": {
  "kernelspec": {
   "display_name": "test",
   "language": "python",
   "name": "python3"
  },
  "language_info": {
   "codemirror_mode": {
    "name": "ipython",
    "version": 3
   },
   "file_extension": ".py",
   "mimetype": "text/x-python",
   "name": "python",
   "nbconvert_exporter": "python",
   "pygments_lexer": "ipython3",
   "version": "3.8.17"
  },
  "orig_nbformat": 4
 },
 "nbformat": 4,
 "nbformat_minor": 2
}
