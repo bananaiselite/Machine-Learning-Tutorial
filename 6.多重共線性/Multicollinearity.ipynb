{
 "cells": [
  {
   "cell_type": "markdown",
   "metadata": {},
   "source": [
    "# Multicollinearity"
   ]
  },
  {
   "cell_type": "markdown",
   "metadata": {},
   "source": [
    "### 可解釋性"
   ]
  },
  {
   "cell_type": "markdown",
   "metadata": {},
   "source": [
    "很多情況下，模型的演算如果過於複雜，導致人類難以理解其決策與行動背後的原因，就會被視為黑盒子（black box），這類模型也被叫做黑盒模型"
   ]
  },
  {
   "cell_type": "markdown",
   "metadata": {},
   "source": [
    "<img src=\"pics/black box model.png\" alt=\"black box model\" style=\"width: 500px\">"
   ]
  },
  {
   "cell_type": "markdown",
   "metadata": {},
   "source": [
    "可解釋的模型可以幫助我們輕鬆打開黑盒子，並且\n",
    "1. 改善模型\n",
    "2. 找出新現象，推論因果"
   ]
  },
  {
   "cell_type": "markdown",
   "metadata": {},
   "source": [
    "架構複雜的模型往往具有較好的表現，但是可解釋性也較低"
   ]
  },
  {
   "cell_type": "markdown",
   "metadata": {},
   "source": [
    "<img src=\"pics/interpretability.webp\" alt=\"interpretability\" style=\"width: 500px\">"
   ]
  },
  {
   "cell_type": "markdown",
   "metadata": {},
   "source": [
    "### 共線性\n",
    "\n",
    "多重共線性（Multicollinearity）是指線性回歸模型中的解釋(自)變量之間由於存在精確相關關係或高度相關關係而使模型估計失真或難以估計準確"
   ]
  },
  {
   "cell_type": "markdown",
   "metadata": {},
   "source": [
    "    假設今天有一條迴歸線為\n",
    "<img src=\"pics/formular1.png\" alt=\"formular1\" style=\"width: 300px\">\n",
    "\n",
    "這時加入了另一就自變數X<sub>4</sub>，X<sub>4</sub>與X<sub>3</sub>高度相關，例如X<sub>4</sub> = 2*X<sub>3</sub>\n",
    "\n",
    "此時公式變為：\n",
    "\n",
    "<img src=\"pics/formular2.png\" alt=\"formular2\" style=\"width: 320px\">"
   ]
  },
  {
   "cell_type": "markdown",
   "metadata": {},
   "source": [
    "由於兩邊要找的是同樣的線性關係，在數學上兩者應該為等價關係"
   ]
  },
  {
   "cell_type": "markdown",
   "metadata": {},
   "source": [
    "<img src=\"pics/formular3.png\" alt=\"formular3\" style=\"width: 400px\">"
   ]
  },
  {
   "cell_type": "markdown",
   "metadata": {},
   "source": [
    "後者的W<sub>5</sub>可以這樣表示\n",
    "\n",
    "<img src=\"pics/formular4.png\" alt=\"formular4\" style=\"width: 130px\">\n",
    "\n",
    "p.s.注意此處W<sub>3</sub>與一開始的W<sub>3</sub>不等值"
   ]
  },
  {
   "cell_type": "markdown",
   "metadata": {},
   "source": [
    "這個方程有無窮多的解，假設今天W<sub>5</sub>等於10，W<sub>3</sub>=2，W<sub>4</sub>=4是一個解，W<sub>3</sub>=8，W<sub>4</sub>=1也是一個解。\n",
    "\n",
    "這會導致了模型係數估計的不穩定，也就很難找出各X和y之間的真實關係了。"
   ]
  },
  {
   "cell_type": "markdown",
   "metadata": {},
   "source": [
    "### 多重共線性檢驗-變異數膨脹係數 Variance Inflation Factor (VIF)\n",
    "計算每一個自變數和其他自變數的R<sup>2</sup>，便能得到VIF值，公式如下："
   ]
  },
  {
   "cell_type": "markdown",
   "metadata": {},
   "source": [
    "<img src=\"pics/VIF.png\" alt=\"VIF\" style=\"width: 130px\">"
   ]
  },
  {
   "cell_type": "code",
   "execution_count": 2,
   "metadata": {},
   "outputs": [],
   "source": [
    "import numpy as np\n",
    "import pandas as pd\n",
    "import matplotlib.pyplot as plt\n",
    "import seaborn as sns\n",
    "\n",
    "np.random.seed(8)"
   ]
  },
  {
   "cell_type": "markdown",
   "metadata": {},
   "source": [
    "我們根據\n",
    "\n",
    "    fuel consumed=1 × mph\n",
    "\n",
    "這個事實來創建一個dataset，並且創造兩個完全共線性的feature。\n",
    "\n",
    "mph : 英里/小時\n",
    "\n",
    "kmph : 公里/小時，從mph轉換而來(1.6倍)，兩者為完全共線性\n",
    "\n",
    "n_unicorn : 某處獨角獸的數量\n",
    "\n",
    "Idontknow : 我也不知道\n"
   ]
  },
  {
   "cell_type": "code",
   "execution_count": 3,
   "metadata": {},
   "outputs": [
    {
     "data": {
      "text/html": [
       "<div>\n",
       "<style scoped>\n",
       "    .dataframe tbody tr th:only-of-type {\n",
       "        vertical-align: middle;\n",
       "    }\n",
       "\n",
       "    .dataframe tbody tr th {\n",
       "        vertical-align: top;\n",
       "    }\n",
       "\n",
       "    .dataframe thead th {\n",
       "        text-align: right;\n",
       "    }\n",
       "</style>\n",
       "<table border=\"1\" class=\"dataframe\">\n",
       "  <thead>\n",
       "    <tr style=\"text-align: right;\">\n",
       "      <th></th>\n",
       "      <th>mph</th>\n",
       "      <th>kmph</th>\n",
       "      <th>n_unicorns</th>\n",
       "      <th>Idontknow</th>\n",
       "      <th>fuel</th>\n",
       "    </tr>\n",
       "  </thead>\n",
       "  <tbody>\n",
       "    <tr>\n",
       "      <th>0</th>\n",
       "      <td>0.0</td>\n",
       "      <td>0.000000</td>\n",
       "      <td>1</td>\n",
       "      <td>18.378527</td>\n",
       "      <td>0.000000</td>\n",
       "    </tr>\n",
       "    <tr>\n",
       "      <th>1</th>\n",
       "      <td>0.5</td>\n",
       "      <td>0.804672</td>\n",
       "      <td>2</td>\n",
       "      <td>12.032513</td>\n",
       "      <td>0.490364</td>\n",
       "    </tr>\n",
       "    <tr>\n",
       "      <th>2</th>\n",
       "      <td>1.0</td>\n",
       "      <td>1.609344</td>\n",
       "      <td>2</td>\n",
       "      <td>2.411589</td>\n",
       "      <td>0.997131</td>\n",
       "    </tr>\n",
       "    <tr>\n",
       "      <th>3</th>\n",
       "      <td>1.5</td>\n",
       "      <td>2.414016</td>\n",
       "      <td>2</td>\n",
       "      <td>8.758339</td>\n",
       "      <td>1.513638</td>\n",
       "    </tr>\n",
       "    <tr>\n",
       "      <th>4</th>\n",
       "      <td>2.0</td>\n",
       "      <td>3.218688</td>\n",
       "      <td>3</td>\n",
       "      <td>27.838772</td>\n",
       "      <td>1.961464</td>\n",
       "    </tr>\n",
       "  </tbody>\n",
       "</table>\n",
       "</div>"
      ],
      "text/plain": [
       "   mph      kmph  n_unicorns  Idontknow      fuel\n",
       "0  0.0  0.000000           1  18.378527  0.000000\n",
       "1  0.5  0.804672           2  12.032513  0.490364\n",
       "2  1.0  1.609344           2   2.411589  0.997131\n",
       "3  1.5  2.414016           2   8.758339  1.513638\n",
       "4  2.0  3.218688           3  27.838772  1.961464"
      ]
     },
     "execution_count": 3,
     "metadata": {},
     "output_type": "execute_result"
    }
   ],
   "source": [
    "# 每英里/小時\n",
    "df               = pd.DataFrame(np.arange(0, 100, 0.5), columns=[\"mph\"])\n",
    "# 每公里/小時\n",
    "df['kmph']       = df['mph'] * 1.609344\n",
    "# 幾隻獨角獸\n",
    "df['n_unicorns'] = np.random.randint(low= 1, high=  4, size=df.shape[0])\n",
    "#我也不知道\n",
    "df['Idontknow']        = np.random.uniform(low= 0, high= 50, size=df.shape[0])\n",
    "# we shall also add a little Gaussian noise to the target\n",
    "df['fuel']       = df['mph'] * (1 + np.random.normal(0,0.02, size=df.shape[0]))\n",
    "\n",
    "df.head()"
   ]
  },
  {
   "cell_type": "code",
   "execution_count": 8,
   "metadata": {},
   "outputs": [],
   "source": [
    "# loc v.s iloc\n",
    "X = df.iloc[:,[0,1,2,3]]\n",
    "y = df.iloc[:,[4]]"
   ]
  },
  {
   "cell_type": "code",
   "execution_count": 16,
   "metadata": {},
   "outputs": [
    {
     "name": "stdout",
     "output_type": "stream",
     "text": [
      "Ground truth regression coefficient: [[1.00019424]]\n",
      "\n"
     ]
    }
   ],
   "source": [
    "from sklearn import linear_model\n",
    "\n",
    "regression = linear_model.LinearRegression()\n",
    "# ground truth: X=mph, y=fuel\n",
    "regression.fit(df.loc[:, [\"mph\"]] , df.loc[:, [\"fuel\"]])\n",
    "print(\"Ground truth regression coefficient:\",regression.coef_)\n",
    "print()"
   ]
  },
  {
   "cell_type": "markdown",
   "metadata": {},
   "source": [
    "當我們單獨對燃料和mph做線性回歸時，我們得到的ground truth coefficient為 1"
   ]
  },
  {
   "cell_type": "code",
   "execution_count": 10,
   "metadata": {},
   "outputs": [
    {
     "name": "stdout",
     "output_type": "stream",
     "text": [
      "                                 OLS Regression Results                                \n",
      "=======================================================================================\n",
      "Dep. Variable:                   fuel   R-squared (uncentered):                   1.000\n",
      "Model:                            OLS   Adj. R-squared (uncentered):              1.000\n",
      "Method:                 Least Squares   F-statistic:                          1.612e+05\n",
      "Date:                Mon, 04 Sep 2023   Prob (F-statistic):                        0.00\n",
      "Time:                        00:03:21   Log-Likelihood:                         -313.99\n",
      "No. Observations:                 200   AIC:                                      634.0\n",
      "Df Residuals:                     197   BIC:                                      643.9\n",
      "Df Model:                           3                                                  \n",
      "Covariance Type:            nonrobust                                                  \n",
      "==============================================================================\n",
      "                 coef    std err          t      P>|t|      [0.025      0.975]\n",
      "------------------------------------------------------------------------------\n",
      "mph            0.2787      0.001    396.695      0.000       0.277       0.280\n",
      "kmph           0.4486      0.001    396.695      0.000       0.446       0.451\n",
      "n_unicorns     0.0035      0.070      0.050      0.960      -0.134       0.141\n",
      "Idontknow      0.0027      0.005      0.539      0.591      -0.007       0.013\n",
      "==============================================================================\n",
      "Omnibus:                       10.158   Durbin-Watson:                   1.794\n",
      "Prob(Omnibus):                  0.006   Jarque-Bera (JB):               20.801\n",
      "Skew:                           0.123   Prob(JB):                     3.04e-05\n",
      "Kurtosis:                       4.561   Cond. No.                     2.71e+16\n",
      "==============================================================================\n",
      "\n",
      "Notes:\n",
      "[1] R² is computed without centering (uncentered) since the model does not contain a constant.\n",
      "[2] Standard Errors assume that the covariance matrix of the errors is correctly specified.\n",
      "[3] The smallest eigenvalue is 3.36e-27. This might indicate that there are\n",
      "strong multicollinearity problems or that the design matrix is singular.\n"
     ]
    }
   ],
   "source": [
    "# full regression, this time using statsmodels\n",
    "import statsmodels.api as sm\n",
    "\n",
    "model   = sm.OLS(y,X)\n",
    "results = model.fit()\n",
    "print(results.summary())"
   ]
  },
  {
   "cell_type": "markdown",
   "metadata": {},
   "source": [
    "然後完整的計算出回歸的係數卻發現，迴歸線為\n",
    "\n",
    "**fuel = 0.2787 * mph + 0.4486 * kmph**\n",
    "\n",
    "我們無法說他是錯誤的，但是卻難以解釋，另外也可看出獨角獸還不知道幹嘛的特徵對於fuel幾乎沒有影響。"
   ]
  },
  {
   "cell_type": "code",
   "execution_count": 21,
   "metadata": {},
   "outputs": [],
   "source": [
    "# variance_inflation_factor的原始碼\n",
    "from statsmodels.regression.linear_model import OLS\n",
    "\n",
    "def variance_inflation_factor(exog, exog_idx):\n",
    "    # 自變數(x)的數量\n",
    "    k_vars = exog.shape[1]\n",
    "    # 轉成array\n",
    "    exog = np.asarray(exog)\n",
    "    # 我們要計算VIF的目標自變數\n",
    "    x_i = exog[:, exog_idx]\n",
    "    # 去除exog_idx欄位，避免與自己做回歸\n",
    "    mask = np.arange(k_vars) != exog_idx\n",
    "    x_noti = exog[:, mask]\n",
    "    # 獲取最小平方的R平方值\n",
    "    r_squared_i = OLS(x_i, x_noti).fit().rsquared\n",
    "    # print(r_squared_i)\n",
    "    # VIF值越大，表示共線性越嚴重\n",
    "    vif = 1. / (1. - r_squared_i)\n",
    "\n",
    "    return vif"
   ]
  },
  {
   "cell_type": "code",
   "execution_count": 23,
   "metadata": {},
   "outputs": [
    {
     "name": "stderr",
     "output_type": "stream",
     "text": [
      "/Users/bananaiselite/anaconda3/envs/test/lib/python3.8/site-packages/statsmodels/stats/outliers_influence.py:198: RuntimeWarning: divide by zero encountered in scalar divide\n",
      "  vif = 1. / (1. - r_squared_i)\n"
     ]
    },
    {
     "data": {
      "text/html": [
       "<div>\n",
       "<style scoped>\n",
       "    .dataframe tbody tr th:only-of-type {\n",
       "        vertical-align: middle;\n",
       "    }\n",
       "\n",
       "    .dataframe tbody tr th {\n",
       "        vertical-align: top;\n",
       "    }\n",
       "\n",
       "    .dataframe thead th {\n",
       "        text-align: right;\n",
       "    }\n",
       "</style>\n",
       "<table border=\"1\" class=\"dataframe\">\n",
       "  <thead>\n",
       "    <tr style=\"text-align: right;\">\n",
       "      <th></th>\n",
       "      <th>feature</th>\n",
       "      <th>VIF</th>\n",
       "    </tr>\n",
       "  </thead>\n",
       "  <tbody>\n",
       "    <tr>\n",
       "      <th>0</th>\n",
       "      <td>mph</td>\n",
       "      <td>inf</td>\n",
       "    </tr>\n",
       "    <tr>\n",
       "      <th>1</th>\n",
       "      <td>kmph</td>\n",
       "      <td>inf</td>\n",
       "    </tr>\n",
       "    <tr>\n",
       "      <th>2</th>\n",
       "      <td>n_unicorns</td>\n",
       "      <td>3.426534</td>\n",
       "    </tr>\n",
       "    <tr>\n",
       "      <th>3</th>\n",
       "      <td>Idontknow</td>\n",
       "      <td>3.031613</td>\n",
       "    </tr>\n",
       "  </tbody>\n",
       "</table>\n",
       "</div>"
      ],
      "text/plain": [
       "      feature       VIF\n",
       "0         mph       inf\n",
       "1        kmph       inf\n",
       "2  n_unicorns  3.426534\n",
       "3   Idontknow  3.031613"
      ]
     },
     "execution_count": 23,
     "metadata": {},
     "output_type": "execute_result"
    }
   ],
   "source": [
    "from statsmodels.stats.outliers_influence import variance_inflation_factor\n",
    "\n",
    "VIF             = pd.DataFrame()\n",
    "VIF['feature']  = X.columns\n",
    "VIF['VIF']      = [variance_inflation_factor(X.values, i) for i in range(X.shape[1])]\n",
    "\n",
    "VIF"
   ]
  },
  {
   "cell_type": "markdown",
   "metadata": {},
   "source": [
    "通常VIF < 5我們就認為有弱共線性，5 < VIF < 10就為強共線性，mph和kmph毫不意外的有超高共線性，那我們就把kmph丟掉看看。"
   ]
  },
  {
   "cell_type": "code",
   "execution_count": 24,
   "metadata": {},
   "outputs": [
    {
     "data": {
      "text/html": [
       "<div>\n",
       "<style scoped>\n",
       "    .dataframe tbody tr th:only-of-type {\n",
       "        vertical-align: middle;\n",
       "    }\n",
       "\n",
       "    .dataframe tbody tr th {\n",
       "        vertical-align: top;\n",
       "    }\n",
       "\n",
       "    .dataframe thead th {\n",
       "        text-align: right;\n",
       "    }\n",
       "</style>\n",
       "<table border=\"1\" class=\"dataframe\">\n",
       "  <thead>\n",
       "    <tr style=\"text-align: right;\">\n",
       "      <th></th>\n",
       "      <th>feature</th>\n",
       "      <th>VIF</th>\n",
       "    </tr>\n",
       "  </thead>\n",
       "  <tbody>\n",
       "    <tr>\n",
       "      <th>0</th>\n",
       "      <td>mph</td>\n",
       "      <td>3.066311</td>\n",
       "    </tr>\n",
       "    <tr>\n",
       "      <th>1</th>\n",
       "      <td>n_unicorns</td>\n",
       "      <td>3.426534</td>\n",
       "    </tr>\n",
       "    <tr>\n",
       "      <th>2</th>\n",
       "      <td>Idontknow</td>\n",
       "      <td>3.031613</td>\n",
       "    </tr>\n",
       "  </tbody>\n",
       "</table>\n",
       "</div>"
      ],
      "text/plain": [
       "      feature       VIF\n",
       "0         mph  3.066311\n",
       "1  n_unicorns  3.426534\n",
       "2   Idontknow  3.031613"
      ]
     },
     "execution_count": 24,
     "metadata": {},
     "output_type": "execute_result"
    }
   ],
   "source": [
    "X = X.drop(['kmph'], axis=1)\n",
    "\n",
    "VIF            = pd.DataFrame()\n",
    "VIF['feature'] = X.columns\n",
    "VIF['VIF']     = [variance_inflation_factor(X.values, i) for i in range(X.shape[1])]\n",
    "VIF"
   ]
  },
  {
   "cell_type": "markdown",
   "metadata": {},
   "source": [
    "所有的VIF都低於5以下，那我們就來重新計算一次回歸線"
   ]
  },
  {
   "cell_type": "code",
   "execution_count": 25,
   "metadata": {},
   "outputs": [
    {
     "name": "stdout",
     "output_type": "stream",
     "text": [
      "                                 OLS Regression Results                                \n",
      "=======================================================================================\n",
      "Dep. Variable:                   fuel   R-squared (uncentered):                   1.000\n",
      "Model:                            OLS   Adj. R-squared (uncentered):              1.000\n",
      "Method:                 Least Squares   F-statistic:                          1.612e+05\n",
      "Date:                Mon, 04 Sep 2023   Prob (F-statistic):                        0.00\n",
      "Time:                        00:50:47   Log-Likelihood:                         -313.99\n",
      "No. Observations:                 200   AIC:                                      634.0\n",
      "Df Residuals:                     197   BIC:                                      643.9\n",
      "Df Model:                           3                                                  \n",
      "Covariance Type:            nonrobust                                                  \n",
      "==============================================================================\n",
      "                 coef    std err          t      P>|t|      [0.025      0.975]\n",
      "------------------------------------------------------------------------------\n",
      "mph            1.0007      0.003    396.695      0.000       0.996       1.006\n",
      "n_unicorns     0.0035      0.070      0.050      0.960      -0.134       0.141\n",
      "Idontknow      0.0027      0.005      0.539      0.591      -0.007       0.013\n",
      "==============================================================================\n",
      "Omnibus:                       10.158   Durbin-Watson:                   1.794\n",
      "Prob(Omnibus):                  0.006   Jarque-Bera (JB):               20.801\n",
      "Skew:                           0.123   Prob(JB):                     3.04e-05\n",
      "Kurtosis:                       4.561   Cond. No.                         52.0\n",
      "==============================================================================\n",
      "\n",
      "Notes:\n",
      "[1] R² is computed without centering (uncentered) since the model does not contain a constant.\n",
      "[2] Standard Errors assume that the covariance matrix of the errors is correctly specified.\n"
     ]
    }
   ],
   "source": [
    "results = sm.OLS(y,X).fit()\n",
    "print(results.summary())"
   ]
  },
  {
   "cell_type": "markdown",
   "metadata": {},
   "source": [
    "現在我們看到 mph 和fuel之間coefficient是1了。"
   ]
  },
  {
   "cell_type": "markdown",
   "metadata": {},
   "source": [
    "多重共線性是普遍存在的，共線性的存在並不會對預測結果造成影響，如果模型僅用於預測，則只要擬合程度好，可不處理多重共線性問題，而在資料探勘中處理共線性可以增加解釋性並且使結果更穩定。\n",
    "通常情況下，如果共線性情況不嚴重（VIF<5），不需要做特別的處理。"
   ]
  },
  {
   "cell_type": "markdown",
   "metadata": {},
   "source": [
    "處理多重共線性可以手動剔除特徵(如上面演示)，在不便剔除特徵的情況下，可以使用**ridge regression**。"
   ]
  }
 ],
 "metadata": {
  "kernelspec": {
   "display_name": "test",
   "language": "python",
   "name": "python3"
  },
  "language_info": {
   "codemirror_mode": {
    "name": "ipython",
    "version": 3
   },
   "file_extension": ".py",
   "mimetype": "text/x-python",
   "name": "python",
   "nbconvert_exporter": "python",
   "pygments_lexer": "ipython3",
   "version": "3.8.17"
  },
  "orig_nbformat": 4
 },
 "nbformat": 4,
 "nbformat_minor": 2
}
