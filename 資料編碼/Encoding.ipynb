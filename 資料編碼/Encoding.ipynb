{
 "cells": [
  {
   "cell_type": "markdown",
   "metadata": {},
   "source": [
    "## Data encoding"
   ]
  },
  {
   "cell_type": "markdown",
   "metadata": {},
   "source": [
    "在拿到Data的時候，我們很難預期全部的欄位都是數字，連續型的為數字，也就是numerical Feature，而另一種就是離散型的Categorical Feature。\n",
    "電腦只能認得數字(講更嚴謹一點是只認識1跟0)，這時候為了要讓電腦看懂，我們就會對Categorical Feature進行編碼(encoding)。"
   ]
  },
  {
   "cell_type": "markdown",
   "metadata": {},
   "source": [
    "離散型的資料基本上又分為兩種\n",
    "\n",
    "有序離散：沒有等級，大小，好壞等邏輯關係的離散資料，Ex:居住地，性別...\n",
    "\n",
    "無序離散：有前後，大小，好壞等邏輯關係的離散資料：Ex:樓層，學歷(學，碩，博)，能力程度..."
   ]
  },
  {
   "cell_type": "markdown",
   "metadata": {},
   "source": [
    "來看看一個預測房價的dataset。"
   ]
  },
  {
   "cell_type": "code",
   "execution_count": 2,
   "metadata": {},
   "outputs": [
    {
     "data": {
      "text/html": [
       "<div>\n",
       "<style scoped>\n",
       "    .dataframe tbody tr th:only-of-type {\n",
       "        vertical-align: middle;\n",
       "    }\n",
       "\n",
       "    .dataframe tbody tr th {\n",
       "        vertical-align: top;\n",
       "    }\n",
       "\n",
       "    .dataframe thead th {\n",
       "        text-align: right;\n",
       "    }\n",
       "</style>\n",
       "<table border=\"1\" class=\"dataframe\">\n",
       "  <thead>\n",
       "    <tr style=\"text-align: right;\">\n",
       "      <th></th>\n",
       "      <th>price</th>\n",
       "      <th>area</th>\n",
       "      <th>bedrooms</th>\n",
       "      <th>bathrooms</th>\n",
       "      <th>stories</th>\n",
       "      <th>mainroad</th>\n",
       "      <th>guestroom</th>\n",
       "      <th>basement</th>\n",
       "      <th>hotwaterheating</th>\n",
       "      <th>airconditioning</th>\n",
       "      <th>parking</th>\n",
       "      <th>prefarea</th>\n",
       "      <th>furnishingstatus</th>\n",
       "    </tr>\n",
       "  </thead>\n",
       "  <tbody>\n",
       "    <tr>\n",
       "      <th>0</th>\n",
       "      <td>13300000</td>\n",
       "      <td>7420</td>\n",
       "      <td>4</td>\n",
       "      <td>2</td>\n",
       "      <td>3</td>\n",
       "      <td>yes</td>\n",
       "      <td>no</td>\n",
       "      <td>no</td>\n",
       "      <td>no</td>\n",
       "      <td>yes</td>\n",
       "      <td>2</td>\n",
       "      <td>yes</td>\n",
       "      <td>furnished</td>\n",
       "    </tr>\n",
       "    <tr>\n",
       "      <th>1</th>\n",
       "      <td>12250000</td>\n",
       "      <td>8960</td>\n",
       "      <td>4</td>\n",
       "      <td>4</td>\n",
       "      <td>4</td>\n",
       "      <td>yes</td>\n",
       "      <td>no</td>\n",
       "      <td>no</td>\n",
       "      <td>no</td>\n",
       "      <td>yes</td>\n",
       "      <td>3</td>\n",
       "      <td>no</td>\n",
       "      <td>furnished</td>\n",
       "    </tr>\n",
       "    <tr>\n",
       "      <th>2</th>\n",
       "      <td>12250000</td>\n",
       "      <td>9960</td>\n",
       "      <td>3</td>\n",
       "      <td>2</td>\n",
       "      <td>2</td>\n",
       "      <td>yes</td>\n",
       "      <td>no</td>\n",
       "      <td>yes</td>\n",
       "      <td>no</td>\n",
       "      <td>no</td>\n",
       "      <td>2</td>\n",
       "      <td>yes</td>\n",
       "      <td>semi-furnished</td>\n",
       "    </tr>\n",
       "    <tr>\n",
       "      <th>3</th>\n",
       "      <td>12215000</td>\n",
       "      <td>7500</td>\n",
       "      <td>4</td>\n",
       "      <td>2</td>\n",
       "      <td>2</td>\n",
       "      <td>yes</td>\n",
       "      <td>no</td>\n",
       "      <td>yes</td>\n",
       "      <td>no</td>\n",
       "      <td>yes</td>\n",
       "      <td>3</td>\n",
       "      <td>yes</td>\n",
       "      <td>furnished</td>\n",
       "    </tr>\n",
       "    <tr>\n",
       "      <th>4</th>\n",
       "      <td>11410000</td>\n",
       "      <td>7420</td>\n",
       "      <td>4</td>\n",
       "      <td>1</td>\n",
       "      <td>2</td>\n",
       "      <td>yes</td>\n",
       "      <td>yes</td>\n",
       "      <td>yes</td>\n",
       "      <td>no</td>\n",
       "      <td>yes</td>\n",
       "      <td>2</td>\n",
       "      <td>no</td>\n",
       "      <td>furnished</td>\n",
       "    </tr>\n",
       "  </tbody>\n",
       "</table>\n",
       "</div>"
      ],
      "text/plain": [
       "      price  area  bedrooms  bathrooms  stories mainroad guestroom basement  \\\n",
       "0  13300000  7420         4          2        3      yes        no       no   \n",
       "1  12250000  8960         4          4        4      yes        no       no   \n",
       "2  12250000  9960         3          2        2      yes        no      yes   \n",
       "3  12215000  7500         4          2        2      yes        no      yes   \n",
       "4  11410000  7420         4          1        2      yes       yes      yes   \n",
       "\n",
       "  hotwaterheating airconditioning  parking prefarea furnishingstatus  \n",
       "0              no             yes        2      yes        furnished  \n",
       "1              no             yes        3       no        furnished  \n",
       "2              no              no        2      yes   semi-furnished  \n",
       "3              no             yes        3      yes        furnished  \n",
       "4              no             yes        2       no        furnished  "
      ]
     },
     "execution_count": 2,
     "metadata": {},
     "output_type": "execute_result"
    }
   ],
   "source": [
    "import pandas as pd\n",
    "import numpy as np\n",
    "\n",
    "df = pd.read_csv(\"Housing.csv\")\n",
    "df.head()"
   ]
  },
  {
   "cell_type": "code",
   "execution_count": 3,
   "metadata": {},
   "outputs": [
    {
     "name": "stdout",
     "output_type": "stream",
     "text": [
      "<class 'pandas.core.frame.DataFrame'>\n",
      "RangeIndex: 545 entries, 0 to 544\n",
      "Data columns (total 13 columns):\n",
      " #   Column            Non-Null Count  Dtype \n",
      "---  ------            --------------  ----- \n",
      " 0   price             545 non-null    int64 \n",
      " 1   area              545 non-null    int64 \n",
      " 2   bedrooms          545 non-null    int64 \n",
      " 3   bathrooms         545 non-null    int64 \n",
      " 4   stories           545 non-null    int64 \n",
      " 5   mainroad          545 non-null    object\n",
      " 6   guestroom         545 non-null    object\n",
      " 7   basement          545 non-null    object\n",
      " 8   hotwaterheating   545 non-null    object\n",
      " 9   airconditioning   545 non-null    object\n",
      " 10  parking           545 non-null    int64 \n",
      " 11  prefarea          545 non-null    object\n",
      " 12  furnishingstatus  545 non-null    object\n",
      "dtypes: int64(6), object(7)\n",
      "memory usage: 55.5+ KB\n"
     ]
    }
   ],
   "source": [
    "df.info()"
   ]
  },
  {
   "cell_type": "markdown",
   "metadata": {},
   "source": [
    "現實世界的資料往往就如上面的dataset一樣，數字和字串一起組成。"
   ]
  },
  {
   "cell_type": "markdown",
   "metadata": {},
   "source": [
    "這邊會舉例四種，很常見的categorical feature處理的方式，分別是：\n",
    "1. Drop Categorical Feature\n",
    "\n",
    "2. One-hot Encoding\n",
    "\n",
    "3. Label Encoding\n",
    "\n",
    "4. Target Encoding"
   ]
  },
  {
   "cell_type": "markdown",
   "metadata": {},
   "source": [
    "### 1. **Drop Categorical Feature：**\n",
    "\n",
    "直接把所有Categorical Feature丟棄，只拿Numerical的部分進行訓練跟預測，這邊就不多做示範。"
   ]
  },
  {
   "cell_type": "markdown",
   "metadata": {},
   "source": [
    "### 2. **One-hot encoding：**"
   ]
  },
  {
   "cell_type": "code",
   "execution_count": 25,
   "metadata": {},
   "outputs": [
    {
     "data": {
      "text/html": [
       "<div>\n",
       "<style scoped>\n",
       "    .dataframe tbody tr th:only-of-type {\n",
       "        vertical-align: middle;\n",
       "    }\n",
       "\n",
       "    .dataframe tbody tr th {\n",
       "        vertical-align: top;\n",
       "    }\n",
       "\n",
       "    .dataframe thead th {\n",
       "        text-align: right;\n",
       "    }\n",
       "</style>\n",
       "<table border=\"1\" class=\"dataframe\">\n",
       "  <thead>\n",
       "    <tr style=\"text-align: right;\">\n",
       "      <th></th>\n",
       "      <th>owner</th>\n",
       "      <th>pets</th>\n",
       "      <th>number</th>\n",
       "    </tr>\n",
       "  </thead>\n",
       "  <tbody>\n",
       "    <tr>\n",
       "      <th>0</th>\n",
       "      <td>a</td>\n",
       "      <td>dog</td>\n",
       "      <td>2</td>\n",
       "    </tr>\n",
       "    <tr>\n",
       "      <th>1</th>\n",
       "      <td>b</td>\n",
       "      <td>mouse</td>\n",
       "      <td>2</td>\n",
       "    </tr>\n",
       "    <tr>\n",
       "      <th>2</th>\n",
       "      <td>c</td>\n",
       "      <td>cat</td>\n",
       "      <td>1</td>\n",
       "    </tr>\n",
       "    <tr>\n",
       "      <th>3</th>\n",
       "      <td>d</td>\n",
       "      <td>cat</td>\n",
       "      <td>2</td>\n",
       "    </tr>\n",
       "  </tbody>\n",
       "</table>\n",
       "</div>"
      ],
      "text/plain": [
       "  owner   pets  number\n",
       "0     a    dog       2\n",
       "1     b  mouse       2\n",
       "2     c    cat       1\n",
       "3     d    cat       2"
      ]
     },
     "execution_count": 25,
     "metadata": {},
     "output_type": "execute_result"
    }
   ],
   "source": [
    "import pandas as pd\n",
    "\n",
    "df = pd.DataFrame(data={\"owner\":[\"a\", \"b\", \"c\", \"d\"],\n",
    "                        \"pets\":[\"dog\", \"mouse\", \"cat\", \"cat\"],\n",
    "                        \"number\":[2, 2, 1, 2]})\n",
    "df.head()"
   ]
  },
  {
   "cell_type": "code",
   "execution_count": 26,
   "metadata": {},
   "outputs": [
    {
     "data": {
      "text/html": [
       "<div>\n",
       "<style scoped>\n",
       "    .dataframe tbody tr th:only-of-type {\n",
       "        vertical-align: middle;\n",
       "    }\n",
       "\n",
       "    .dataframe tbody tr th {\n",
       "        vertical-align: top;\n",
       "    }\n",
       "\n",
       "    .dataframe thead th {\n",
       "        text-align: right;\n",
       "    }\n",
       "</style>\n",
       "<table border=\"1\" class=\"dataframe\">\n",
       "  <thead>\n",
       "    <tr style=\"text-align: right;\">\n",
       "      <th></th>\n",
       "      <th>0</th>\n",
       "      <th>1</th>\n",
       "      <th>2</th>\n",
       "    </tr>\n",
       "  </thead>\n",
       "  <tbody>\n",
       "    <tr>\n",
       "      <th>0</th>\n",
       "      <td>0.0</td>\n",
       "      <td>1.0</td>\n",
       "      <td>0.0</td>\n",
       "    </tr>\n",
       "    <tr>\n",
       "      <th>1</th>\n",
       "      <td>0.0</td>\n",
       "      <td>0.0</td>\n",
       "      <td>1.0</td>\n",
       "    </tr>\n",
       "    <tr>\n",
       "      <th>2</th>\n",
       "      <td>1.0</td>\n",
       "      <td>0.0</td>\n",
       "      <td>0.0</td>\n",
       "    </tr>\n",
       "    <tr>\n",
       "      <th>3</th>\n",
       "      <td>1.0</td>\n",
       "      <td>0.0</td>\n",
       "      <td>0.0</td>\n",
       "    </tr>\n",
       "  </tbody>\n",
       "</table>\n",
       "</div>"
      ],
      "text/plain": [
       "     0    1    2\n",
       "0  0.0  1.0  0.0\n",
       "1  0.0  0.0  1.0\n",
       "2  1.0  0.0  0.0\n",
       "3  1.0  0.0  0.0"
      ]
     },
     "execution_count": 26,
     "metadata": {},
     "output_type": "execute_result"
    }
   ],
   "source": [
    "from sklearn.preprocessing import OneHotEncoder\n",
    "\n",
    "onehotencoder = OneHotEncoder()\n",
    "onehot = onehotencoder.fit_transform(df[['pets']]).toarray()\n",
    "pd.DataFrame(onehot)"
   ]
  },
  {
   "cell_type": "markdown",
   "metadata": {},
   "source": [
    "在上面的範例可以看到，one-hot把資料拆解成二元分類，只有0跟1存在，這邊來詳細解釋一下。\n",
    "\n",
    "本來的pets features有三個為一值，分別為cat, dog, mouse，因此會出現在三個feature columns(0, 1, 2)分別對應著cat, dog, mouse。\n",
    "\n",
    "如果該owner養的是貓，那該owern的column 0中的數值就是1，其他的column則為0;如果該owner養的是狗，那該owern的column 1中的數值就是1，其他的column則為0，以此類推。"
   ]
  },
  {
   "cell_type": "code",
   "execution_count": 11,
   "metadata": {},
   "outputs": [
    {
     "data": {
      "text/plain": [
       "[array(['cat', 'dog', 'mouse'], dtype=object)]"
      ]
     },
     "execution_count": 11,
     "metadata": {},
     "output_type": "execute_result"
    }
   ],
   "source": [
    "# 查看columns feature的編號(index)\n",
    "onehotencoder.categories_"
   ]
  },
  {
   "cell_type": "code",
   "execution_count": 23,
   "metadata": {},
   "outputs": [
    {
     "data": {
      "text/plain": [
       "array([['mouse']], dtype=object)"
      ]
     },
     "execution_count": 23,
     "metadata": {},
     "output_type": "execute_result"
    }
   ],
   "source": [
    "onehotencoder.inverse_transform([[0,0,1]])"
   ]
  },
  {
   "cell_type": "markdown",
   "metadata": {},
   "source": [
    "one-hot encoding適合在無序離散特徵使用，但在實際上Kaggle跟ML的實作中，使用One Hot Encoding要非常的注意，原因很簡單，就是因為它會造成很多的問題。"
   ]
  },
  {
   "cell_type": "markdown",
   "metadata": {},
   "source": [
    "**問題1. 容易overfitting**\n",
    "\n",
    "one-hot encoding會大幅增加資料的feature，過多的Feature容易造成模型在訓練的時候overfitting。\n",
    "\n",
    "**問題2. 造成資料稀疏**\n",
    "\n",
    "在處理資料時，feature中大量的0，會導致各feature在交錯計算的時候會出現很多的0跟0互相計算，這讓模型參數在跟更新時會經常性的出現無值，會造成參數訓練上的困難。\n",
    "\n",
    "**問題3. 維度災難**\n",
    "\n",
    "維度災難用來描述當（數學）空間維度增加時，分析和組織高維空間（通常有成百上千維），因體積指數增加而遇到各種問題場景。這樣的難題在低維空間中不會遇到。one-hot encoding可能會讓本來只10幾個的feature擴展到上百上千的，這很容易導致維度災難。\n",
    "\n",
    "以上的這些問題導致了使用OneHot時要注意該特徵是否唯一值(unique value)非常多，也很常搭配降維方法一起使用。\n",
    "另外也要注意使用決策樹模型時不適合使用one-hot encoding。"
   ]
  },
  {
   "cell_type": "markdown",
   "metadata": {},
   "source": [
    "### 3. **Label Encoding:**"
   ]
  },
  {
   "cell_type": "code",
   "execution_count": 27,
   "metadata": {},
   "outputs": [
    {
     "data": {
      "text/html": [
       "<div>\n",
       "<style scoped>\n",
       "    .dataframe tbody tr th:only-of-type {\n",
       "        vertical-align: middle;\n",
       "    }\n",
       "\n",
       "    .dataframe tbody tr th {\n",
       "        vertical-align: top;\n",
       "    }\n",
       "\n",
       "    .dataframe thead th {\n",
       "        text-align: right;\n",
       "    }\n",
       "</style>\n",
       "<table border=\"1\" class=\"dataframe\">\n",
       "  <thead>\n",
       "    <tr style=\"text-align: right;\">\n",
       "      <th></th>\n",
       "      <th>owner</th>\n",
       "      <th>pets</th>\n",
       "      <th>number</th>\n",
       "    </tr>\n",
       "  </thead>\n",
       "  <tbody>\n",
       "    <tr>\n",
       "      <th>0</th>\n",
       "      <td>a</td>\n",
       "      <td>dog</td>\n",
       "      <td>2</td>\n",
       "    </tr>\n",
       "    <tr>\n",
       "      <th>1</th>\n",
       "      <td>b</td>\n",
       "      <td>mouse</td>\n",
       "      <td>2</td>\n",
       "    </tr>\n",
       "    <tr>\n",
       "      <th>2</th>\n",
       "      <td>c</td>\n",
       "      <td>cat</td>\n",
       "      <td>1</td>\n",
       "    </tr>\n",
       "    <tr>\n",
       "      <th>3</th>\n",
       "      <td>d</td>\n",
       "      <td>cat</td>\n",
       "      <td>2</td>\n",
       "    </tr>\n",
       "  </tbody>\n",
       "</table>\n",
       "</div>"
      ],
      "text/plain": [
       "  owner   pets  number\n",
       "0     a    dog       2\n",
       "1     b  mouse       2\n",
       "2     c    cat       1\n",
       "3     d    cat       2"
      ]
     },
     "execution_count": 27,
     "metadata": {},
     "output_type": "execute_result"
    }
   ],
   "source": [
    "import pandas as pd\n",
    "\n",
    "df = pd.DataFrame(data={\"owner\":[\"a\", \"b\", \"c\", \"d\"],\n",
    "                        \"pets\":[\"dog\", \"mouse\", \"cat\", \"cat\"],\n",
    "                        \"number\":[2, 2, 1, 2]})\n",
    "df.head()"
   ]
  },
  {
   "cell_type": "code",
   "execution_count": 29,
   "metadata": {},
   "outputs": [
    {
     "name": "stderr",
     "output_type": "stream",
     "text": [
      "/Users/bananaiselite/anaconda3/envs/test/lib/python3.8/site-packages/sklearn/preprocessing/_label.py:115: DataConversionWarning: A column-vector y was passed when a 1d array was expected. Please change the shape of y to (n_samples, ), for example using ravel().\n",
      "  y = column_or_1d(y, warn=True)\n"
     ]
    },
    {
     "data": {
      "text/html": [
       "<div>\n",
       "<style scoped>\n",
       "    .dataframe tbody tr th:only-of-type {\n",
       "        vertical-align: middle;\n",
       "    }\n",
       "\n",
       "    .dataframe tbody tr th {\n",
       "        vertical-align: top;\n",
       "    }\n",
       "\n",
       "    .dataframe thead th {\n",
       "        text-align: right;\n",
       "    }\n",
       "</style>\n",
       "<table border=\"1\" class=\"dataframe\">\n",
       "  <thead>\n",
       "    <tr style=\"text-align: right;\">\n",
       "      <th></th>\n",
       "      <th>0</th>\n",
       "    </tr>\n",
       "  </thead>\n",
       "  <tbody>\n",
       "    <tr>\n",
       "      <th>0</th>\n",
       "      <td>1</td>\n",
       "    </tr>\n",
       "    <tr>\n",
       "      <th>1</th>\n",
       "      <td>2</td>\n",
       "    </tr>\n",
       "    <tr>\n",
       "      <th>2</th>\n",
       "      <td>0</td>\n",
       "    </tr>\n",
       "    <tr>\n",
       "      <th>3</th>\n",
       "      <td>0</td>\n",
       "    </tr>\n",
       "  </tbody>\n",
       "</table>\n",
       "</div>"
      ],
      "text/plain": [
       "   0\n",
       "0  1\n",
       "1  2\n",
       "2  0\n",
       "3  0"
      ]
     },
     "execution_count": 29,
     "metadata": {},
     "output_type": "execute_result"
    }
   ],
   "source": [
    "from sklearn.preprocessing import LabelEncoder\n",
    "\n",
    "labelencoder = LabelEncoder()\n",
    "label = labelencoder.fit_transform(df[['pets']])\n",
    "pd.DataFrame(label)"
   ]
  },
  {
   "cell_type": "code",
   "execution_count": 30,
   "metadata": {},
   "outputs": [
    {
     "data": {
      "text/plain": [
       "array(['cat', 'dog', 'mouse'], dtype=object)"
      ]
     },
     "execution_count": 30,
     "metadata": {},
     "output_type": "execute_result"
    }
   ],
   "source": [
    "# 查看features編碼\n",
    "labelencoder.classes_"
   ]
  },
  {
   "cell_type": "markdown",
   "metadata": {},
   "source": [
    "<img src=\"pics/one-hot v.s label.png\" alt=\"one-hot v.s label\" style=\"width: 500px\"/>"
   ]
  },
  {
   "cell_type": "markdown",
   "metadata": {},
   "source": [
    "在上面的範例可以看到，label encoding把資料都編上號碼，透過labelencoder.classes_可以知道，cat,dog和mouse分別對應0,1,2，因此可以看到養貓的owner為0，養狗的為1，養老鼠的為2。"
   ]
  },
  {
   "cell_type": "markdown",
   "metadata": {},
   "source": [
    "Label encoding不適合用於無序性離散資料，因為這個方法會造成feature有排序關係。\n",
    "\n",
    "舉個例子：寵物種類[dog,cat,dog,mouse,cat]為離散型資料，透過Label encoding轉換為[1,0,1,2,0]。就會產生了一個奇怪的現象：cat和mouse的平均值是dog，所以label encoding最直觀的缺點就是賦值難以解釋，不適合用在無序性離散資料。"
   ]
  },
  {
   "cell_type": "markdown",
   "metadata": {},
   "source": [
    "### 4. **Target Encoding:**\n",
    "\n",
    "在某特徵中的唯一值非常多，不適合使用one-hot encoding，如果是無序離散資料，Label encoding也不是很適合，這時候就可以使用target encoding。\n",
    "\n",
    "target encoding使一種統稱，方法有很多種，只要使用從target提取出來的資訊，來取代類別特徵，這種方法都被稱為Target encoding。\n",
    "這樣描述有點抽象，我們來看一些例子。"
   ]
  },
  {
   "cell_type": "markdown",
   "metadata": {},
   "source": [
    "**mean encoding**"
   ]
  },
  {
   "cell_type": "code",
   "execution_count": 31,
   "metadata": {},
   "outputs": [
    {
     "data": {
      "text/html": [
       "<div>\n",
       "<style scoped>\n",
       "    .dataframe tbody tr th:only-of-type {\n",
       "        vertical-align: middle;\n",
       "    }\n",
       "\n",
       "    .dataframe tbody tr th {\n",
       "        vertical-align: top;\n",
       "    }\n",
       "\n",
       "    .dataframe thead th {\n",
       "        text-align: right;\n",
       "    }\n",
       "</style>\n",
       "<table border=\"1\" class=\"dataframe\">\n",
       "  <thead>\n",
       "    <tr style=\"text-align: right;\">\n",
       "      <th></th>\n",
       "      <th>price</th>\n",
       "      <th>area</th>\n",
       "      <th>bedrooms</th>\n",
       "      <th>bathrooms</th>\n",
       "      <th>stories</th>\n",
       "      <th>mainroad</th>\n",
       "      <th>guestroom</th>\n",
       "      <th>basement</th>\n",
       "      <th>hotwaterheating</th>\n",
       "      <th>airconditioning</th>\n",
       "      <th>parking</th>\n",
       "      <th>prefarea</th>\n",
       "      <th>furnishingstatus</th>\n",
       "    </tr>\n",
       "  </thead>\n",
       "  <tbody>\n",
       "    <tr>\n",
       "      <th>0</th>\n",
       "      <td>13300000</td>\n",
       "      <td>7420</td>\n",
       "      <td>4</td>\n",
       "      <td>2</td>\n",
       "      <td>3</td>\n",
       "      <td>yes</td>\n",
       "      <td>no</td>\n",
       "      <td>no</td>\n",
       "      <td>no</td>\n",
       "      <td>yes</td>\n",
       "      <td>2</td>\n",
       "      <td>yes</td>\n",
       "      <td>furnished</td>\n",
       "    </tr>\n",
       "    <tr>\n",
       "      <th>1</th>\n",
       "      <td>12250000</td>\n",
       "      <td>8960</td>\n",
       "      <td>4</td>\n",
       "      <td>4</td>\n",
       "      <td>4</td>\n",
       "      <td>yes</td>\n",
       "      <td>no</td>\n",
       "      <td>no</td>\n",
       "      <td>no</td>\n",
       "      <td>yes</td>\n",
       "      <td>3</td>\n",
       "      <td>no</td>\n",
       "      <td>furnished</td>\n",
       "    </tr>\n",
       "    <tr>\n",
       "      <th>2</th>\n",
       "      <td>12250000</td>\n",
       "      <td>9960</td>\n",
       "      <td>3</td>\n",
       "      <td>2</td>\n",
       "      <td>2</td>\n",
       "      <td>yes</td>\n",
       "      <td>no</td>\n",
       "      <td>yes</td>\n",
       "      <td>no</td>\n",
       "      <td>no</td>\n",
       "      <td>2</td>\n",
       "      <td>yes</td>\n",
       "      <td>semi-furnished</td>\n",
       "    </tr>\n",
       "    <tr>\n",
       "      <th>3</th>\n",
       "      <td>12215000</td>\n",
       "      <td>7500</td>\n",
       "      <td>4</td>\n",
       "      <td>2</td>\n",
       "      <td>2</td>\n",
       "      <td>yes</td>\n",
       "      <td>no</td>\n",
       "      <td>yes</td>\n",
       "      <td>no</td>\n",
       "      <td>yes</td>\n",
       "      <td>3</td>\n",
       "      <td>yes</td>\n",
       "      <td>furnished</td>\n",
       "    </tr>\n",
       "    <tr>\n",
       "      <th>4</th>\n",
       "      <td>11410000</td>\n",
       "      <td>7420</td>\n",
       "      <td>4</td>\n",
       "      <td>1</td>\n",
       "      <td>2</td>\n",
       "      <td>yes</td>\n",
       "      <td>yes</td>\n",
       "      <td>yes</td>\n",
       "      <td>no</td>\n",
       "      <td>yes</td>\n",
       "      <td>2</td>\n",
       "      <td>no</td>\n",
       "      <td>furnished</td>\n",
       "    </tr>\n",
       "  </tbody>\n",
       "</table>\n",
       "</div>"
      ],
      "text/plain": [
       "      price  area  bedrooms  bathrooms  stories mainroad guestroom basement  \\\n",
       "0  13300000  7420         4          2        3      yes        no       no   \n",
       "1  12250000  8960         4          4        4      yes        no       no   \n",
       "2  12250000  9960         3          2        2      yes        no      yes   \n",
       "3  12215000  7500         4          2        2      yes        no      yes   \n",
       "4  11410000  7420         4          1        2      yes       yes      yes   \n",
       "\n",
       "  hotwaterheating airconditioning  parking prefarea furnishingstatus  \n",
       "0              no             yes        2      yes        furnished  \n",
       "1              no             yes        3       no        furnished  \n",
       "2              no              no        2      yes   semi-furnished  \n",
       "3              no             yes        3      yes        furnished  \n",
       "4              no             yes        2       no        furnished  "
      ]
     },
     "execution_count": 31,
     "metadata": {},
     "output_type": "execute_result"
    }
   ],
   "source": [
    "import pandas as pd\n",
    "import numpy as np\n",
    "\n",
    "df = pd.read_csv(\"Housing.csv\")\n",
    "df.head()"
   ]
  },
  {
   "cell_type": "code",
   "execution_count": 37,
   "metadata": {},
   "outputs": [
    {
     "data": {
      "text/plain": [
       "array(['furnished', 'semi-furnished', 'unfurnished'], dtype=object)"
      ]
     },
     "execution_count": 37,
     "metadata": {},
     "output_type": "execute_result"
    }
   ],
   "source": [
    "# 我們使用furnishingstatus來做舉例\n",
    "data = df[[\"furnishingstatus\", \"price\"]]\n",
    "# 查看furnishingstatus的唯一值\n",
    "data[\"furnishingstatus\"].unique()"
   ]
  },
  {
   "cell_type": "code",
   "execution_count": 41,
   "metadata": {},
   "outputs": [
    {
     "name": "stdout",
     "output_type": "stream",
     "text": [
      "furnishingstatus: furnished\n",
      "0      13300000\n",
      "1      12250000\n",
      "3      12215000\n",
      "4      11410000\n",
      "8       9870000\n",
      "         ...   \n",
      "509     2590000\n",
      "512     2520000\n",
      "522     2380000\n",
      "523     2380000\n",
      "543     1750000\n",
      "Name: price, Length: 140, dtype: int64\n",
      "========================================\n",
      "furnishingstatus: semi-furnished\n",
      "2      12250000\n",
      "5      10850000\n",
      "6      10150000\n",
      "11      9681000\n",
      "12      9310000\n",
      "         ...   \n",
      "502     2660000\n",
      "503     2660000\n",
      "514     2485000\n",
      "527     2275000\n",
      "541     1767150\n",
      "Name: price, Length: 227, dtype: int64\n",
      "========================================\n",
      "furnishingstatus: unfurnished\n",
      "7      10150000\n",
      "9       9800000\n",
      "16      9100000\n",
      "21      8680000\n",
      "28      8400000\n",
      "         ...   \n",
      "538     1890000\n",
      "539     1855000\n",
      "540     1820000\n",
      "542     1750000\n",
      "544     1750000\n",
      "Name: price, Length: 178, dtype: int64\n",
      "========================================\n"
     ]
    }
   ],
   "source": [
    "# group用法\n",
    "# 把屬於不同furnishingstatus的price取出\n",
    "groups = data.groupby(\"furnishingstatus\")[\"price\"]\n",
    "\n",
    "for g in groups:\n",
    "    print(\"furnishingstatus:\",g[0])\n",
    "    print(g[1])\n",
    "    print(\"=\"*40)"
   ]
  },
  {
   "cell_type": "code",
   "execution_count": 44,
   "metadata": {},
   "outputs": [
    {
     "data": {
      "text/html": [
       "<div>\n",
       "<style scoped>\n",
       "    .dataframe tbody tr th:only-of-type {\n",
       "        vertical-align: middle;\n",
       "    }\n",
       "\n",
       "    .dataframe tbody tr th {\n",
       "        vertical-align: top;\n",
       "    }\n",
       "\n",
       "    .dataframe thead th {\n",
       "        text-align: right;\n",
       "    }\n",
       "</style>\n",
       "<table border=\"1\" class=\"dataframe\">\n",
       "  <thead>\n",
       "    <tr style=\"text-align: right;\">\n",
       "      <th></th>\n",
       "      <th>furnishingstatus</th>\n",
       "      <th>price</th>\n",
       "      <th>furnishingstatus_mean</th>\n",
       "    </tr>\n",
       "  </thead>\n",
       "  <tbody>\n",
       "    <tr>\n",
       "      <th>0</th>\n",
       "      <td>furnished</td>\n",
       "      <td>13300000</td>\n",
       "      <td>5.495696e+06</td>\n",
       "    </tr>\n",
       "    <tr>\n",
       "      <th>1</th>\n",
       "      <td>furnished</td>\n",
       "      <td>12250000</td>\n",
       "      <td>5.495696e+06</td>\n",
       "    </tr>\n",
       "    <tr>\n",
       "      <th>2</th>\n",
       "      <td>semi-furnished</td>\n",
       "      <td>12250000</td>\n",
       "      <td>4.907524e+06</td>\n",
       "    </tr>\n",
       "    <tr>\n",
       "      <th>3</th>\n",
       "      <td>furnished</td>\n",
       "      <td>12215000</td>\n",
       "      <td>5.495696e+06</td>\n",
       "    </tr>\n",
       "    <tr>\n",
       "      <th>4</th>\n",
       "      <td>furnished</td>\n",
       "      <td>11410000</td>\n",
       "      <td>5.495696e+06</td>\n",
       "    </tr>\n",
       "    <tr>\n",
       "      <th>...</th>\n",
       "      <td>...</td>\n",
       "      <td>...</td>\n",
       "      <td>...</td>\n",
       "    </tr>\n",
       "    <tr>\n",
       "      <th>540</th>\n",
       "      <td>unfurnished</td>\n",
       "      <td>1820000</td>\n",
       "      <td>4.013831e+06</td>\n",
       "    </tr>\n",
       "    <tr>\n",
       "      <th>541</th>\n",
       "      <td>semi-furnished</td>\n",
       "      <td>1767150</td>\n",
       "      <td>4.907524e+06</td>\n",
       "    </tr>\n",
       "    <tr>\n",
       "      <th>542</th>\n",
       "      <td>unfurnished</td>\n",
       "      <td>1750000</td>\n",
       "      <td>4.013831e+06</td>\n",
       "    </tr>\n",
       "    <tr>\n",
       "      <th>543</th>\n",
       "      <td>furnished</td>\n",
       "      <td>1750000</td>\n",
       "      <td>5.495696e+06</td>\n",
       "    </tr>\n",
       "    <tr>\n",
       "      <th>544</th>\n",
       "      <td>unfurnished</td>\n",
       "      <td>1750000</td>\n",
       "      <td>4.013831e+06</td>\n",
       "    </tr>\n",
       "  </tbody>\n",
       "</table>\n",
       "<p>545 rows × 3 columns</p>\n",
       "</div>"
      ],
      "text/plain": [
       "    furnishingstatus     price  furnishingstatus_mean\n",
       "0          furnished  13300000           5.495696e+06\n",
       "1          furnished  12250000           5.495696e+06\n",
       "2     semi-furnished  12250000           4.907524e+06\n",
       "3          furnished  12215000           5.495696e+06\n",
       "4          furnished  11410000           5.495696e+06\n",
       "..               ...       ...                    ...\n",
       "540      unfurnished   1820000           4.013831e+06\n",
       "541   semi-furnished   1767150           4.907524e+06\n",
       "542      unfurnished   1750000           4.013831e+06\n",
       "543        furnished   1750000           5.495696e+06\n",
       "544      unfurnished   1750000           4.013831e+06\n",
       "\n",
       "[545 rows x 3 columns]"
      ]
     },
     "execution_count": 44,
     "metadata": {},
     "output_type": "execute_result"
    }
   ],
   "source": [
    "# 把不同種類furnishingstatus的price轉換成平均值\n",
    "data[\"furnishingstatus_mean\"] = data.groupby(\"furnishingstatus\")[\"price\"].transform(\"mean\")\n",
    "data"
   ]
  },
  {
   "cell_type": "markdown",
   "metadata": {},
   "source": [
    "Target Encoding的原理是把Categorical Feature跟Target的關係算出來。也是因為這樣，造成在訓練時很容易overfitting，並且因為是取平均，對於極端值很敏感，所以我們通常會使用smooth或是K-fold來避免這種情況。"
   ]
  },
  {
   "cell_type": "markdown",
   "metadata": {},
   "source": [
    "**K-fold target**\n",
    "\n",
    "<img src=\"pics/k-fold 1.webp\" alt=\"k-fold 1\" style=\"width: 700px\"/>\n",
    "\n",
    "<img src=\"pics/k-fold 2.webp\" alt=\"k-fold 2\" style=\"width: 700px\"/>\n",
    "\n",
    "<img src=\"pics/k-fold 3.webp\" alt=\"k-fold 3\" style=\"width: 700px\"/>\n",
    "\n",
    "<img src=\"pics/k-fold 4.webp\" alt=\"k-fold 4\" style=\"width: 700px\"/>\n",
    "\n",
    "<img src=\"pics/k-fold 5.webp\" alt=\"k-fold 5\" style=\"width: 700px\"/>\n",
    "\n",
    "pic source : https://medium.com/@pouryaayria/k-fold-target-encoding-dfe9a594874b"
   ]
  },
  {
   "cell_type": "code",
   "execution_count": 34,
   "metadata": {},
   "outputs": [
    {
     "name": "stdout",
     "output_type": "stream",
     "text": [
      "Train: index=[0 1 2 3 4 6 8 9]\n",
      "Test:  index=[5 7]\n",
      "Train: index=[1 2 3 4 5 6 7 8]\n",
      "Test:  index=[0 9]\n",
      "Train: index=[0 1 2 5 6 7 8 9]\n",
      "Test:  index=[3 4]\n",
      "Train: index=[0 2 3 4 5 6 7 9]\n",
      "Test:  index=[1 8]\n",
      "Train: index=[0 1 3 4 5 7 8 9]\n",
      "Test:  index=[2 6]\n"
     ]
    }
   ],
   "source": [
    "# KFold用法示範\n",
    "from sklearn.model_selection import KFold\n",
    "\n",
    "X = np.array([[1], [2], [3], [4], [5], [6], [7], [8], [9], [10]])\n",
    "kf = KFold(n_splits=5, shuffle=True, random_state=666)\n",
    "\n",
    "for train_index, test_index in kf.split(X):\n",
    "\n",
    "    print(f\"Train: index={train_index}\")\n",
    "    print(f\"Test:  index={test_index}\")"
   ]
  },
  {
   "cell_type": "code",
   "execution_count": 31,
   "metadata": {},
   "outputs": [
    {
     "data": {
      "text/html": [
       "<div>\n",
       "<style scoped>\n",
       "    .dataframe tbody tr th:only-of-type {\n",
       "        vertical-align: middle;\n",
       "    }\n",
       "\n",
       "    .dataframe tbody tr th {\n",
       "        vertical-align: top;\n",
       "    }\n",
       "\n",
       "    .dataframe thead th {\n",
       "        text-align: right;\n",
       "    }\n",
       "</style>\n",
       "<table border=\"1\" class=\"dataframe\">\n",
       "  <thead>\n",
       "    <tr style=\"text-align: right;\">\n",
       "      <th></th>\n",
       "      <th>furnishingstatus</th>\n",
       "      <th>price</th>\n",
       "    </tr>\n",
       "  </thead>\n",
       "  <tbody>\n",
       "    <tr>\n",
       "      <th>0</th>\n",
       "      <td>furnished</td>\n",
       "      <td>13300000</td>\n",
       "    </tr>\n",
       "    <tr>\n",
       "      <th>1</th>\n",
       "      <td>furnished</td>\n",
       "      <td>12250000</td>\n",
       "    </tr>\n",
       "    <tr>\n",
       "      <th>2</th>\n",
       "      <td>semi-furnished</td>\n",
       "      <td>12250000</td>\n",
       "    </tr>\n",
       "    <tr>\n",
       "      <th>3</th>\n",
       "      <td>furnished</td>\n",
       "      <td>12215000</td>\n",
       "    </tr>\n",
       "    <tr>\n",
       "      <th>4</th>\n",
       "      <td>furnished</td>\n",
       "      <td>11410000</td>\n",
       "    </tr>\n",
       "    <tr>\n",
       "      <th>...</th>\n",
       "      <td>...</td>\n",
       "      <td>...</td>\n",
       "    </tr>\n",
       "    <tr>\n",
       "      <th>540</th>\n",
       "      <td>unfurnished</td>\n",
       "      <td>1820000</td>\n",
       "    </tr>\n",
       "    <tr>\n",
       "      <th>541</th>\n",
       "      <td>semi-furnished</td>\n",
       "      <td>1767150</td>\n",
       "    </tr>\n",
       "    <tr>\n",
       "      <th>542</th>\n",
       "      <td>unfurnished</td>\n",
       "      <td>1750000</td>\n",
       "    </tr>\n",
       "    <tr>\n",
       "      <th>543</th>\n",
       "      <td>furnished</td>\n",
       "      <td>1750000</td>\n",
       "    </tr>\n",
       "    <tr>\n",
       "      <th>544</th>\n",
       "      <td>unfurnished</td>\n",
       "      <td>1750000</td>\n",
       "    </tr>\n",
       "  </tbody>\n",
       "</table>\n",
       "<p>545 rows × 2 columns</p>\n",
       "</div>"
      ],
      "text/plain": [
       "    furnishingstatus     price\n",
       "0          furnished  13300000\n",
       "1          furnished  12250000\n",
       "2     semi-furnished  12250000\n",
       "3          furnished  12215000\n",
       "4          furnished  11410000\n",
       "..               ...       ...\n",
       "540      unfurnished   1820000\n",
       "541   semi-furnished   1767150\n",
       "542      unfurnished   1750000\n",
       "543        furnished   1750000\n",
       "544      unfurnished   1750000\n",
       "\n",
       "[545 rows x 2 columns]"
      ]
     },
     "execution_count": 31,
     "metadata": {},
     "output_type": "execute_result"
    }
   ],
   "source": [
    "import pandas as pd\n",
    "import numpy as np\n",
    "\n",
    "df = pd.read_csv(\"Housing.csv\")\n",
    "df.head()\n",
    "\n",
    "data = df[[\"furnishingstatus\", \"price\"]]\n",
    "data"
   ]
  },
  {
   "cell_type": "code",
   "execution_count": 49,
   "metadata": {},
   "outputs": [
    {
     "name": "stdout",
     "output_type": "stream",
     "text": [
      "furnishingstatus\n",
      "furnished         5.494313e+06\n",
      "semi-furnished    4.907589e+06\n",
      "unfurnished       4.015086e+06\n",
      "dtype: float64\n"
     ]
    }
   ],
   "source": [
    "from sklearn.model_selection import KFold\n",
    "\n",
    "kf = KFold(n_splits=5, shuffle=True, random_state=666)\n",
    "\n",
    "result = pd.DataFrame()\n",
    "for train_index, test_index in kf.split(data):\n",
    "\n",
    "    unique_val_mean = data.iloc[train_index].groupby(\"furnishingstatus\")[\"price\"].mean()\n",
    "    # print(unique_val_mean)\n",
    "\n",
    "    result = pd.concat([result, pd.DataFrame(unique_val_mean).T])\n",
    "\n",
    "print(result.mean())"
   ]
  },
  {
   "cell_type": "markdown",
   "metadata": {},
   "source": [
    "在K-fold交叉驗證中，每個fold都有不同的target，這意味著我們可以從多個不同的子集來估計每個類別的target mean。這些均值估計的平均值通常更穩定且不受極端值的影響，從而減少了overfitting的可能性。"
   ]
  },
  {
   "cell_type": "markdown",
   "metadata": {},
   "source": [
    "這種方法又稱為Leave-One-Out Encoding(LOO Encoding)，LOO Encoding在Category Encoders這個Package裡面有支援，使用方法跟所有sklearn的feature transform一樣。"
   ]
  },
  {
   "cell_type": "code",
   "execution_count": 58,
   "metadata": {},
   "outputs": [
    {
     "data": {
      "text/html": [
       "<div>\n",
       "<style scoped>\n",
       "    .dataframe tbody tr th:only-of-type {\n",
       "        vertical-align: middle;\n",
       "    }\n",
       "\n",
       "    .dataframe tbody tr th {\n",
       "        vertical-align: top;\n",
       "    }\n",
       "\n",
       "    .dataframe thead th {\n",
       "        text-align: right;\n",
       "    }\n",
       "</style>\n",
       "<table border=\"1\" class=\"dataframe\">\n",
       "  <thead>\n",
       "    <tr style=\"text-align: right;\">\n",
       "      <th></th>\n",
       "      <th>furnishingstatus</th>\n",
       "    </tr>\n",
       "  </thead>\n",
       "  <tbody>\n",
       "    <tr>\n",
       "      <th>0</th>\n",
       "      <td>5.439550e+06</td>\n",
       "    </tr>\n",
       "    <tr>\n",
       "      <th>1</th>\n",
       "      <td>5.447104e+06</td>\n",
       "    </tr>\n",
       "    <tr>\n",
       "      <th>2</th>\n",
       "      <td>4.875035e+06</td>\n",
       "    </tr>\n",
       "    <tr>\n",
       "      <th>3</th>\n",
       "      <td>5.447356e+06</td>\n",
       "    </tr>\n",
       "    <tr>\n",
       "      <th>4</th>\n",
       "      <td>5.453147e+06</td>\n",
       "    </tr>\n",
       "    <tr>\n",
       "      <th>...</th>\n",
       "      <td>...</td>\n",
       "    </tr>\n",
       "    <tr>\n",
       "      <th>540</th>\n",
       "      <td>4.026226e+06</td>\n",
       "    </tr>\n",
       "    <tr>\n",
       "      <th>541</th>\n",
       "      <td>4.921420e+06</td>\n",
       "    </tr>\n",
       "    <tr>\n",
       "      <th>542</th>\n",
       "      <td>4.026621e+06</td>\n",
       "    </tr>\n",
       "    <tr>\n",
       "      <th>543</th>\n",
       "      <td>5.522643e+06</td>\n",
       "    </tr>\n",
       "    <tr>\n",
       "      <th>544</th>\n",
       "      <td>4.026621e+06</td>\n",
       "    </tr>\n",
       "  </tbody>\n",
       "</table>\n",
       "<p>545 rows × 1 columns</p>\n",
       "</div>"
      ],
      "text/plain": [
       "     furnishingstatus\n",
       "0        5.439550e+06\n",
       "1        5.447104e+06\n",
       "2        4.875035e+06\n",
       "3        5.447356e+06\n",
       "4        5.453147e+06\n",
       "..                ...\n",
       "540      4.026226e+06\n",
       "541      4.921420e+06\n",
       "542      4.026621e+06\n",
       "543      5.522643e+06\n",
       "544      4.026621e+06\n",
       "\n",
       "[545 rows x 1 columns]"
      ]
     },
     "execution_count": 58,
     "metadata": {},
     "output_type": "execute_result"
    }
   ],
   "source": [
    "import category_encoders as ce\n",
    "import pandas as pd\n",
    "import numpy as np\n",
    "\n",
    "df = pd.read_csv(\"Housing.csv\")\n",
    "df.head()\n",
    "\n",
    "X = df['furnishingstatus']\n",
    "y = df['price']\n",
    "\n",
    "encoder = ce.LeaveOneOutEncoder(cols=[\"furnishingstatus\"])\n",
    "encoder.fit_transform(X, y)"
   ]
  },
  {
   "cell_type": "markdown",
   "metadata": {},
   "source": [
    "**smooth**"
   ]
  },
  {
   "cell_type": "markdown",
   "metadata": {},
   "source": [
    "方法如下\n",
    "\n",
    "__*encoding = weight * 類別平均 + (1 - weight) * 整體平均*__\n",
    "\n",
    "weight 為0~1之間的數值，從類別出現的比率計算而來\n",
    "\n",
    "公式如下\n",
    "\n",
    "__*weight = n / (n + m)*__\n",
    "\n",
    "weight為兩個參數所組成，n 為該類別出現在data的次數，m 則為 smoothing factor，須自行設定，越大的m，代表越會趨向於整體平均。"
   ]
  },
  {
   "cell_type": "code",
   "execution_count": 50,
   "metadata": {},
   "outputs": [
    {
     "data": {
      "text/html": [
       "<div>\n",
       "<style scoped>\n",
       "    .dataframe tbody tr th:only-of-type {\n",
       "        vertical-align: middle;\n",
       "    }\n",
       "\n",
       "    .dataframe tbody tr th {\n",
       "        vertical-align: top;\n",
       "    }\n",
       "\n",
       "    .dataframe thead th {\n",
       "        text-align: right;\n",
       "    }\n",
       "</style>\n",
       "<table border=\"1\" class=\"dataframe\">\n",
       "  <thead>\n",
       "    <tr style=\"text-align: right;\">\n",
       "      <th></th>\n",
       "      <th>furnishingstatus</th>\n",
       "      <th>price</th>\n",
       "    </tr>\n",
       "  </thead>\n",
       "  <tbody>\n",
       "    <tr>\n",
       "      <th>0</th>\n",
       "      <td>furnished</td>\n",
       "      <td>13300000</td>\n",
       "    </tr>\n",
       "    <tr>\n",
       "      <th>1</th>\n",
       "      <td>furnished</td>\n",
       "      <td>12250000</td>\n",
       "    </tr>\n",
       "    <tr>\n",
       "      <th>2</th>\n",
       "      <td>semi-furnished</td>\n",
       "      <td>12250000</td>\n",
       "    </tr>\n",
       "    <tr>\n",
       "      <th>3</th>\n",
       "      <td>furnished</td>\n",
       "      <td>12215000</td>\n",
       "    </tr>\n",
       "    <tr>\n",
       "      <th>4</th>\n",
       "      <td>furnished</td>\n",
       "      <td>11410000</td>\n",
       "    </tr>\n",
       "    <tr>\n",
       "      <th>...</th>\n",
       "      <td>...</td>\n",
       "      <td>...</td>\n",
       "    </tr>\n",
       "    <tr>\n",
       "      <th>540</th>\n",
       "      <td>unfurnished</td>\n",
       "      <td>1820000</td>\n",
       "    </tr>\n",
       "    <tr>\n",
       "      <th>541</th>\n",
       "      <td>semi-furnished</td>\n",
       "      <td>1767150</td>\n",
       "    </tr>\n",
       "    <tr>\n",
       "      <th>542</th>\n",
       "      <td>unfurnished</td>\n",
       "      <td>1750000</td>\n",
       "    </tr>\n",
       "    <tr>\n",
       "      <th>543</th>\n",
       "      <td>furnished</td>\n",
       "      <td>1750000</td>\n",
       "    </tr>\n",
       "    <tr>\n",
       "      <th>544</th>\n",
       "      <td>unfurnished</td>\n",
       "      <td>1750000</td>\n",
       "    </tr>\n",
       "  </tbody>\n",
       "</table>\n",
       "<p>545 rows × 2 columns</p>\n",
       "</div>"
      ],
      "text/plain": [
       "    furnishingstatus     price\n",
       "0          furnished  13300000\n",
       "1          furnished  12250000\n",
       "2     semi-furnished  12250000\n",
       "3          furnished  12215000\n",
       "4          furnished  11410000\n",
       "..               ...       ...\n",
       "540      unfurnished   1820000\n",
       "541   semi-furnished   1767150\n",
       "542      unfurnished   1750000\n",
       "543        furnished   1750000\n",
       "544      unfurnished   1750000\n",
       "\n",
       "[545 rows x 2 columns]"
      ]
     },
     "execution_count": 50,
     "metadata": {},
     "output_type": "execute_result"
    }
   ],
   "source": [
    "import pandas as pd\n",
    "import numpy as np\n",
    "\n",
    "df = pd.read_csv(\"Housing.csv\")\n",
    "df.head()\n",
    "\n",
    "data = df[[\"furnishingstatus\", \"price\"]]\n",
    "data"
   ]
  },
  {
   "cell_type": "code",
   "execution_count": 57,
   "metadata": {},
   "outputs": [
    {
     "name": "stdout",
     "output_type": "stream",
     "text": [
      "furnished 的n值： 0.25688073394495414\n",
      "furnished 的weight： 0.11382113821138211\n",
      "furnished 的encoding: 4849701.073170732\n",
      "\n",
      "semi-furnished 的n值： 0.41651376146788993\n",
      "semi-furnished 的weight： 0.17236142748671224\n",
      "semi-furnished 的encoding: 4790996.871678056\n",
      "\n",
      "unfurnished 的n值： 0.326605504587156\n",
      "unfurnished 的weight： 0.14037854889589907\n",
      "unfurnished 的encoding: 4661038.548895899\n",
      "\n"
     ]
    }
   ],
   "source": [
    "col = 'furnishingstatus'\n",
    "# 假設m值為2.0\n",
    "m = 2.0\n",
    "for val in data[col].unique():\n",
    "    n = len(data[data[col]==val])/len(data)\n",
    "    print(val,\"的n值：\" , n)\n",
    "\n",
    "    weight = n/(n+m)\n",
    "    print(val,\"的weight：\" , weight)\n",
    "\n",
    "    #encoding = weight * 類別平均 + (1 - weight) * 整體平均\n",
    "    encoding = weight * data[data[col]==val][\"price\"].mean() + (1 - weight) * data[\"price\"].mean()\n",
    "    print(val, \"的encoding:\", encoding)\n",
    "    print()"
   ]
  },
  {
   "cell_type": "markdown",
   "metadata": {},
   "source": [
    "**Beta Target Encoding**"
   ]
  },
  {
   "cell_type": "markdown",
   "metadata": {},
   "source": [
    "BTE會紅起來最主要是在[Kaggle Avito Demand Prediction Challenge](https://www.kaggle.com/c/avito-demand-prediction/overview)中，第14名（top 1%）的選手公布了這個方法，並且顯現了在LightGBM上達到顯著的改善。"
   ]
  },
  {
   "cell_type": "markdown",
   "metadata": {},
   "source": [
    "由於牽涉的數學式跟知識背景較多，這邊先不介紹，但非常推薦去了解一下這個encoding，是目前很多人會使用的一種Target encoding，連結如下。"
   ]
  },
  {
   "cell_type": "markdown",
   "metadata": {},
   "source": [
    "[Kaggle Master分享編碼神技-Beta Target Encoding](https://mp.weixin.qq.com/s?__biz=Mzk0NDE5Nzg1Ng==&mid=2247494163&idx=1&sn=5aba9ce08911f12b06619226809cdc7d&chksm=c32af39cf45d7a8aad50b7dfc58dc6eee6128d7f9c0998b86cdfb45f1419427b5ca6a4e0a3ec&mpshare=1&scene=21&srcid=0406aBjMtq5tN6QIki5R1Zj8&sharer_sharetime=1617703540684&sharer_shareid=9c4625e82fc6c8a2cb56fccd24aba0f4#wechat_redirect)"
   ]
  },
  {
   "cell_type": "markdown",
   "metadata": {},
   "source": [
    "沒有最好的Encoding，每一種Encoding都有自己適合的位子，也有不同的改善空間，如果模型訓練效果不好的話，可以試試看改一種Encoding方法喔。"
   ]
  },
  {
   "cell_type": "markdown",
   "metadata": {},
   "source": [
    "推薦閱讀：\n",
    "[也太全了吧！分享16種機器學習類別特徵處理方法！](https://zhuanlan.zhihu.com/p/560004588)"
   ]
  }
 ],
 "metadata": {
  "kernelspec": {
   "display_name": "test",
   "language": "python",
   "name": "python3"
  },
  "language_info": {
   "codemirror_mode": {
    "name": "ipython",
    "version": 3
   },
   "file_extension": ".py",
   "mimetype": "text/x-python",
   "name": "python",
   "nbconvert_exporter": "python",
   "pygments_lexer": "ipython3",
   "version": "3.8.17"
  },
  "orig_nbformat": 4
 },
 "nbformat": 4,
 "nbformat_minor": 2
}
