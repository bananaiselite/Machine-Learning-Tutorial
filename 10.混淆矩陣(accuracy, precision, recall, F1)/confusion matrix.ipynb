{
 "cells": [
  {
   "cell_type": "markdown",
   "metadata": {},
   "source": [
    "# Confusion Matrix"
   ]
  },
  {
   "cell_type": "markdown",
   "metadata": {},
   "source": [
    "當我們用測試集(testing set)或驗證集(validation set)去評估一個模型，我們應該如何去評估該模型的好壞，首先我們一定會需要量化的指標(Metrics)，並且這些指標要能指出模型表現得好的部分與不好的部分。\n",
    "\n",
    "如果稍微查一下，會發現機器學習中指標有千千萬萬種，一大堆名詞讓人摸不著頭腦，這是因為不同的任務往往需要不同的指標，今天要來講解二元分類(classification)任務中最常用的指標，Confusion matrix。"
   ]
  },
  {
   "cell_type": "markdown",
   "metadata": {},
   "source": [
    "先來看看Confusion matrix的圖\n",
    "\n",
    "<img src=\"pics/confusion matrix.png\" alt=\"confusion matrix\" style=\"width: 700px\">"
   ]
  },
  {
   "cell_type": "markdown",
   "metadata": {},
   "source": [
    "舉個例子\n",
    "\n",
    "舉個二元分類的問題，如果今天去檢測糖尿病，有A，B兩位病患，A有糖尿病而B沒有糖尿病。\n",
    "\n",
    "如果糖尿病檢測結果為A有糖尿病，此結果為TP，若檢測出B有糖尿病，此結果則為FP(type I error)，若檢測出A無糖尿病，此結果為FN(Type II error)，若檢測出B無糖尿病，則為TN。"
   ]
  },
  {
   "cell_type": "code",
   "execution_count": 1,
   "metadata": {},
   "outputs": [
    {
     "data": {
      "image/png": "[encoded data removed]",
      "text/plain": [
       "<Figure size 250x250 with 1 Axes>"
      ]
     },
     "metadata": {},
     "output_type": "display_data"
    }
   ],
   "source": [
    "from sklearn.metrics import confusion_matrix\n",
    "import matplotlib.pyplot as plt\n",
    "\n",
    "y_true = [1, 0, 1, 1, 0, 1, 0, 1, 1, 1, 0, 0 ,1]\n",
    "y_pred = [0, 0, 1, 0, 1, 1, 0, 1, 1, 0, 0, 1 ,1]\n",
    "\n",
    "confmat = confusion_matrix(y_true=y_true, y_pred=y_pred)\n",
    "\n",
    "fig, ax = plt.subplots(figsize=(2.5, 2.5))\n",
    "ax.matshow(confmat, cmap=plt.cm.Blues, alpha=0.3)\n",
    "for i in range(confmat.shape[0]):\n",
    "    for j in range(confmat.shape[1]):\n",
    "        ax.text(x=j, y=i, s=confmat[i,j], va='center', ha='center')\n",
    "plt.xlabel('predicted label')        \n",
    "plt.ylabel('true label')\n",
    "plt.show()"
   ]
  },
  {
   "cell_type": "markdown",
   "metadata": {},
   "source": [
    "混淆矩陣的概念衍生出很多常用的指標\n",
    "\n",
    "\n",
    "**Accuracy**\n",
    "\n",
    "Accuracy為非常常用的Metric\n",
    "\n",
    "算法為\n",
    "\n",
    "<img src=\"pics/acc.png\" alt=\"acc\" style=\"width: 500px\">\n",
    "\n",
    "其代表的意義就是不論是case true 或 case false，只要被正確預測的即可。\n",
    "\n",
    "Accuracy雖然常常出現，但是在某些情況下會失效。\n",
    "\n",
    "例如信用卡盜刷的偵測，真實消費紀錄和真正被盜刷的紀錄比起來多非常非常多，假設今天偵測到盜刷定義為1，真實消費為0，一萬筆消費中有十筆為盜刷，那我們要如何讓模型表現出高Accuracy？只要讓預測結果全部為0即可，根據這例子算出來的Accuracy為99.9%。\n",
    "\n",
    "因此在case true或 case false非常不平衡的情況下，Accuracy是不具參考性，因此我們需要其他的指標。"
   ]
  },
  {
   "cell_type": "markdown",
   "metadata": {},
   "source": [
    "**Precision**\n",
    "\n",
    "來看看他的算法\n",
    "\n",
    "<img src=\"pics/precision.png\" alt=\"precision\" style=\"width: 400px\">\n",
    "\n",
    "該指標著重在case true的正確預測，也就是所有預測為true的結果中，預測正確的比例為何。舉上面信用卡的例子，如果全部預測為0，則Precision為0，高Precision代表的意義則是如果今天預測為結果為正，那我希望判定的結果是要非常肯定的，不能錯放，也就是寧可錯放，不能錯殺。\n",
    "\n",
    "例如信用卡盜刷總共預測只預測出三筆盜刷，而那三筆皆為正確，該預測結果的Precision則為100%，也就是Precision越高，模型越嚴謹。\n"
   ]
  },
  {
   "cell_type": "markdown",
   "metadata": {},
   "source": [
    "**Recall**\n",
    "\n",
    "<img src=\"pics/recall.png\" alt=\"recall\" style=\"width: 400px\">\n",
    "\n",
    "Recall是在所有True case中，被預測為positive的比例，也可以看成所有要抓取出的目標，究竟抓了多少回來，因此才會被稱為Recall(召回率)，高Recall代表的是，可以讓抓取到錯誤結果，但是不願意放走一個，也就是寧可錯殺，不能錯放。\n",
    "\n",
    "在信用卡的例子中，如果全部預測結果為0，則Recall為0，若今天預測出100筆盜刷，其中包含了10筆真正盜刷的紀錄，則Recall則為100%。"
   ]
  },
  {
   "cell_type": "markdown",
   "metadata": {},
   "source": [
    "Precision和Recall都不去考慮True Negative\n",
    "\n",
    "因為通常True Negative會是Null Hypothesis，簡單講就是最無聊的正確結果。在門禁的解鎖問題就是陌生人按壓且門不開；在廣告投放的例子中就是廣告不投，結果那個人也不是潛在客戶：在信用卡盜刷的例子，機器人認為正常的刷卡紀錄，其實也正是正常的。在通常的命題之下，實際是正向的結果是比負向少的，理所當然預測正向的結果也要比負向少，所以True Negative通常是量最多的，也是最無聊的。"
   ]
  },
  {
   "cell_type": "markdown",
   "metadata": {},
   "source": [
    "Recall和Precision在現實中很難兼顧，所以選出適合的指標是非常重要的，下列的任務中應該適合使用哪些指標。\n",
    "\n",
    "1. 臉部辨識門禁\n",
    "\n",
    "2. 廣告投放\n",
    "\n",
    "3. 醫學檢查"
   ]
  },
  {
   "cell_type": "markdown",
   "metadata": {},
   "source": [
    "在一些情況下我們很需要兩者兼具，例如鏡頭自動搜尋人臉，如果Precision很高Recall太低，團體照中找到的人臉可能寥寥無幾，如果Recall高而Precision低，則可能三個人找出六張臉，兩個模型都不好，因此有了**F1-score**這個指標。"
   ]
  },
  {
   "cell_type": "markdown",
   "metadata": {},
   "source": [
    "<img src=\"pics/F1.png\" alt=\"F1\" style=\"width: 400px\">"
   ]
  },
  {
   "cell_type": "markdown",
   "metadata": {},
   "source": [
    "如果今天我覺得Precision和Recall都同等重要，我想要用一個指標來統合標誌它，這就是F1 Score或稱F1 Measure，它是F Measure的一個特例，\n",
    "F Measure公式如下\n",
    "\n",
    "<img src=\"pics/F measure.png\" alt=\"F measure\" style=\"width: 400px\">\n",
    "\n",
    "當beta=1時就是F1 Measure，代表Precision和Recall都同等重要，那如果我希望多看中一點Precision，那belta\n",
    "就可以選擇小一點，當belta=0時，F Measure就是Precision；如果我希望多看中一點Recall，那belta就可以選擇大一點，當belta無限大時，F Measure就是Recall。\n"
   ]
  },
  {
   "cell_type": "markdown",
   "metadata": {},
   "source": [
    "機器學習中有千千萬萬種指標，線性回歸中的RMSE也是一種指標，如果無法正確掌握指標的特性，那便無法的訓練出正確且有用的模型。"
   ]
  }
 ],
 "metadata": {
  "kernelspec": {
   "display_name": "test",
   "language": "python",
   "name": "python3"
  },
  "language_info": {
   "codemirror_mode": {
    "name": "ipython",
    "version": 3
   },
   "file_extension": ".py",
   "mimetype": "text/x-python",
   "name": "python",
   "nbconvert_exporter": "python",
   "pygments_lexer": "ipython3",
   "version": "3.8.17"
  }
 },
 "nbformat": 4,
 "nbformat_minor": 2
}
