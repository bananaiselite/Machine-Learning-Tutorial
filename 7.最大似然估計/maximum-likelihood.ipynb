{
 "cells": [
  {
   "cell_type": "markdown",
   "metadata": {},
   "source": [
    "# maximum-likelihood"
   ]
  },
  {
   "cell_type": "markdown",
   "metadata": {},
   "source": [
    "在數理統計中，有兩個名詞很容易搞混，就是**機率(probability)**和**似然(likelihood)**，所以我們一開始先來澄清。\n",
    "\n",
    "今天丟了一個一枚硬幣，假設這是枚公正硬幣\n",
    "\n",
    "正面向上的**機率**為50%\n",
    "\n",
    "假設我們取了任意一枚硬幣，我們無法得知這是否為一枚公正硬幣，因此我們投擲了1000次\n",
    "\n",
    "結果是500次正面朝上，因此Prob<sub>front</sub>=0.5的可能性大於Prob<sub>front</sub>=0.6，我們可以推測這枚硬幣是枚公正硬幣，判以結果來判斷原始條件(參數)，這就叫做**似然**。"
   ]
  },
  {
   "cell_type": "markdown",
   "metadata": {},
   "source": [
    "### 最大似然估計法(method of maximun likelihood)"
   ]
  },
  {
   "cell_type": "markdown",
   "metadata": {},
   "source": [
    "從一個簡單的例子來想像一下\n",
    "\n",
    "<img src=\"pics/maximun likelihood example.png\" alt=\"maximun likelihood example\" style=\"width: 500px\">"
   ]
  },
  {
   "cell_type": "markdown",
   "metadata": {},
   "source": [
    "今天有兩個完全一樣的箱子，我們隨機取一個箱子，並且取一顆球出來，假設取出的是黑球\n",
    "\n",
    "請問這顆黑球是從哪個箱子中取出?\n",
    "\n",
    "最直觀的回答應該是\"黑球最有可能的從B箱中\"，因此從因為取出的是黑球，推斷出最有可能是B箱，我們推斷我們原始條件就是B箱。\n",
    "這種從\"最有可能\"去推斷的方法，就是**最大似然估計法**。"
   ]
  },
  {
   "cell_type": "markdown",
   "metadata": {},
   "source": [
    "**條件機率**"
   ]
  },
  {
   "cell_type": "markdown",
   "metadata": {},
   "source": [
    "我們習慣用P來表示機率，𝑃(𝑋)就代表X發生的機率，條件機率是指在某種條件下會發生某事的機率，例如在𝜃參數會發生X的機率，那我們會在X後面加上｜𝜃，也就是就記成𝑃(𝑋|𝜃)。"
   ]
  },
  {
   "cell_type": "markdown",
   "metadata": {},
   "source": [
    "今天投出一枚公正的硬幣，我們有了公正硬幣這個條件，正面(Head)朝上的機率為0.5，也就是𝜃為𝑃<sub>H</sub>=0.5。\n",
    "\n",
    "擲一次硬幣為正面的機率為\n",
    "\n",
    "𝑃(H|𝑃<sub>H</sub>=0.5) = 0.5\n",
    "\n",
    "擲二次硬幣為正面的機率為\n",
    "\n",
    "𝑃(HH|𝑃<sub>H</sub>=0.5) = 𝑃(H)*𝑃(H) =0.5<sup>2</sup> = 0.25"
   ]
  },
  {
   "cell_type": "markdown",
   "metadata": {},
   "source": [
    "**似然概率函數**"
   ]
  },
  {
   "cell_type": "markdown",
   "metadata": {},
   "source": [
    "我們拿了一枚硬幣，無法假設他是公正硬幣，也就是不知道𝑃<sub>H</sub>是多少。\n",
    "\n",
    "所以做一個實驗，擲硬幣5次，其中三次是正面，兩次是反面，我們用𝑋來表示這次的投擲結果，寫成表達式就是\n",
    "\n",
    "𝑃(𝑋|𝑃<sub>H</sub>)\n",
    "\n",
    "完整的式子為："
   ]
  },
  {
   "cell_type": "markdown",
   "metadata": {},
   "source": [
    "<img src=\"pics/maximun likelihood example2.png\" alt=\"maximun likelihood example2\" style=\"width: 300px\">"
   ]
  },
  {
   "cell_type": "markdown",
   "metadata": {},
   "source": [
    "我們做兩個假設，首先假設是𝑃<sub>H</sub>=0.5，則\n",
    "\n",
    "<img src=\"pics/maximun likelihood example3.png\" alt=\"maximun likelihood example3\" style=\"width: 300px\">"
   ]
  },
  {
   "cell_type": "markdown",
   "metadata": {},
   "source": [
    "接著假設𝑃<sub>H</sub>=0.6，則\n",
    "\n",
    "<img src=\"pics/maximun likelihood example4.png\" alt=\"maximun likelihood example4\" style=\"width: 300px\">"
   ]
  },
  {
   "cell_type": "markdown",
   "metadata": {},
   "source": [
    "顯然地，如果𝑃<sub>H</sub>=0.6，能夠在擲5次看到3次正面的機會比較高。所以當「擲5次看到3次正面」的條件下，我們可以知道𝑃<sub>H</sub>=0.6的可能性比𝑃<sub>H</sub>=0.5還要高，合理推測出，𝑃<sub>H</sub>可能是0.6而非0.5。"
   ]
  },
  {
   "cell_type": "markdown",
   "metadata": {},
   "source": [
    "這就是似然概率函數(通常以𝐿為代表)的概念，在觀察到𝑋的情況下，𝑋的似然概率可以記為:\n",
    "\n",
    "𝐿(𝑃<sub>H</sub>|𝑋) = 𝑃(𝑋|𝑃<sub>H</sub>)\n",
    "\n",
    "而就上述的情況，可分別記為：\n",
    "\n",
    "𝐿(𝑃<sub>H</sub>=0.5|𝑋) = 𝑃(𝑋|𝑃<sub>H</sub>=0.5) = 0.3125\n",
    "\n",
    "𝐿(𝑃<sub>H</sub>=0.6|𝑋) = 𝑃(𝑋|𝑃<sub>H</sub>=0.6) = 0.3456"
   ]
  },
  {
   "cell_type": "markdown",
   "metadata": {},
   "source": [
    "_注意!!似然概率和機率雖然數值相同，但是意義不同_"
   ]
  },
  {
   "cell_type": "markdown",
   "metadata": {},
   "source": [
    "單獨看似然概率是沒有意義的，例如機率有總合必須為1，並且要介於0-1的限制，似然概率並沒有。\n",
    "\n",
    "似然概率的變化是用來尋找最大的可能性，計算出的結果值並無太多實質意義。"
   ]
  },
  {
   "cell_type": "markdown",
   "metadata": {},
   "source": [
    "現在回歸到機器學習模型上面，我們都知道訓練模型要調整參數(Hyperparameter)，因為似然概率告訴我們，如果存在一組參數使的似然概率函數達到最大的話，那麼該參數便為最合理的參數值。這就是**最大似然概率估計法**。"
   ]
  },
  {
   "cell_type": "markdown",
   "metadata": {},
   "source": [
    "____"
   ]
  },
  {
   "cell_type": "markdown",
   "metadata": {},
   "source": [
    "    Math Warning!!!"
   ]
  },
  {
   "cell_type": "markdown",
   "metadata": {},
   "source": [
    "____"
   ]
  },
  {
   "cell_type": "markdown",
   "metadata": {},
   "source": [
    "接下來要把上述講的觀念通通轉換成數學式子\n",
    "\n",
    "假設今天大學生的月花費分佈條件為𝜃，那麼隨機抽一個大學生的生活費的機率並可定義為𝑃(𝑋|𝜃)。\n",
    "\n",
    "那麼我抽樣調查大學生，那麼我抽到*大學生A*的生活費可以記為𝑃(𝑋<sub>𝐴</sub> |𝜃)，抽到*大學生B*的生活費可以記為𝑃(𝑋<sub>𝐵</sub> |𝜃)，同時抽到A&B的機率則為𝑃(𝑋<sub>𝐴</sub> |𝜃)＊𝑃(𝑋<sub>𝐵</sub> |𝜃)。\n",
    "\n",
    "抽樣N位大學生的聯合機率就是𝑃(𝑋<sub>1</sub> |𝜃)＊𝑃(𝑋<sub>2</sub> |𝜃)＊𝑃(𝑋<sub>3</sub> |𝜃)...＊𝑃(𝑋<sub>N</sub> |𝜃)\n",
    "\n",
    "轉換成似然概率函數便可記為:\n",
    "\n",
    "\n",
    "<img src=\"pics/MLE formular1.png\" alt=\"MLE formular1\" style=\"width: 300px\">"
   ]
  },
  {
   "cell_type": "markdown",
   "metadata": {},
   "source": [
    "因為要求似然函數最大值，我們要對上面的式子做導數，但是上面那一坨牛鬼蛇神實在是無從下手，所以我們要先來讓他變得簡單一點："
   ]
  },
  {
   "cell_type": "markdown",
   "metadata": {},
   "source": [
    "<img src=\"pics/MLE formular2.png\" alt=\"MLE formular2\" style=\"width: 500px\">"
   ]
  },
  {
   "cell_type": "markdown",
   "metadata": {},
   "source": [
    "根據導數特性：\n",
    "\n",
    "<img src=\"pics/limitation values.png\" alt=\"limitation values\" style=\"width: 300px\">\n",
    "\n",
    "我們要求出最大似然概率：\n",
    "\n",
    "1. 求一階導數並為0\n",
    "\n",
    "2. 以二階導數判斷是否為極大\n",
    "\n",
    "這邊就不多做計算，非常推薦看李柏堅老師的[最大概似法](https://youtu.be/t_KUThpWWcY?si=oQUGCXXhZ8EHEqpM)，裡面有完整的例題計算過程。"
   ]
  },
  {
   "cell_type": "markdown",
   "metadata": {},
   "source": [
    "**最小平方法證明**"
   ]
  },
  {
   "cell_type": "markdown",
   "metadata": {},
   "source": [
    "在常態分佈下發生X的機率，其機率密度函數我們可以寫成：\n",
    "\n",
    "<img src=\"pics/normal distribution.png\" alt=\"normal distribution\" style=\"width: 300px\">"
   ]
  },
  {
   "cell_type": "markdown",
   "metadata": {},
   "source": [
    "我們可以透過平移整體分佈來使得平均值𝜇為0，式子就可以改寫成：\n",
    "\n",
    "<img src=\"pics/normal distribution 2.png\" alt=\"normal distribution 2\" style=\"width: 300px\">"
   ]
  },
  {
   "cell_type": "markdown",
   "metadata": {},
   "source": [
    "今天假設誤差服從常態分佈，就可以寫成：\n",
    "\n",
    "<img src=\"pics/normal distribution 3.png\" alt=\"normal distribution 3\" style=\"width: 300px\">"
   ]
  },
  {
   "cell_type": "markdown",
   "metadata": {},
   "source": [
    "接著，我們可以寫出可出線形回歸的似然概率：\n",
    "\n",
    "<img src=\"pics/normal distribution 4.png\" alt=\"normal distribution 4\" style=\"width: 440px\">"
   ]
  },
  {
   "cell_type": "markdown",
   "metadata": {},
   "source": [
    "𝜇,𝜎都是常數，而(y<sub>i</sub>-W<sup>T</sup>x<sub>i</sub>)<sup>2</sup>一定大於等於0，因此上面的問題就在最小化1/2*(y<sub>i</sub>-W<sup>T</sup>x<sub>i</sub>)<sup>2</sup>，也就是我們常見的MSE。"
   ]
  }
 ],
 "metadata": {
  "kernelspec": {
   "display_name": "test",
   "language": "python",
   "name": "python3"
  },
  "language_info": {
   "codemirror_mode": {
    "name": "ipython",
    "version": 3
   },
   "file_extension": ".py",
   "mimetype": "text/x-python",
   "name": "python",
   "nbconvert_exporter": "python",
   "pygments_lexer": "ipython3",
   "version": "3.8.17"
  },
  "orig_nbformat": 4
 },
 "nbformat": 4,
 "nbformat_minor": 2
}
