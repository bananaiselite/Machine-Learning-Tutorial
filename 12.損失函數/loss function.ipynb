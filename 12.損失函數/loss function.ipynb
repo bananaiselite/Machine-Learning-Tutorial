{
 "cells": [
  {
   "cell_type": "markdown",
   "metadata": {},
   "source": [
    "### Loss function\n",
    "\n",
    "大部分模型都會有個希望能最小化或最大化的函數，這個函數我們稱為目標函數(Objection function)，例如線性回歸的MSE，貝葉斯的後驗機率等等，不同的模型會用到不同的假設，目標函數也都不同，而在機器學習中，要優化的這些目標函數又稱為損失函數(Loss function)。"
   ]
  },
  {
   "cell_type": "markdown",
   "metadata": {},
   "source": [
    "在前面介紹了不少損失函數，像經典的MSE(Mean-Square Error)，MAE(Mean-Absolute Error)等等，經典的Loss function，這邊就先快速過一遍。"
   ]
  },
  {
   "cell_type": "markdown",
   "metadata": {},
   "source": [
    "**MSE**\n",
    "\n",
    "<img src=\"pics/MSE.jpeg\" alt=\"MSE\" style=\"width: 500px\">"
   ]
  },
  {
   "cell_type": "markdown",
   "metadata": {},
   "source": [
    "MSE，均方誤差，就是計算方法是求「預測值與真實值之間差異的均方值」，由於計算時是計算各個資料點與的距離的平方，因此很容易受到outliers影響。"
   ]
  },
  {
   "cell_type": "markdown",
   "metadata": {},
   "source": [
    "**MAE**\n",
    "\n",
    "<img src=\"pics/MAE.jpeg\" alt=\"MAE\" style=\"width: 500px\">"
   ]
  },
  {
   "cell_type": "markdown",
   "metadata": {},
   "source": [
    "MAE在梯度學習部分存在一個問題，更新參數時，MAE的梯度始終相同，所以當loss很小的時候，梯度一樣很大，這樣在學習時，容易在快學習到最佳解時，更新的解進不到最佳的地方。"
   ]
  },
  {
   "cell_type": "markdown",
   "metadata": {},
   "source": [
    "<img src=\"pics/MSE v.s MAE.webp\" alt=\"MSE v.s MAE\" style=\"width: 500px\">"
   ]
  },
  {
   "cell_type": "markdown",
   "metadata": {},
   "source": [
    "小結: MAE對outlier比較有用，但因為微分不連續(剛剛的例子在x=0時，MAE函數就不可以微分)，因此可能在執行時容易出錯，MSE對outlier較敏感，但在求解時，比較容易找到穩定的解。"
   ]
  },
  {
   "cell_type": "markdown",
   "metadata": {},
   "source": [
    "為了減緩MSE的平方帶來的過大影響，又希望loss function為連續函數，因此有了RMSE(Root MSE)\n",
    "\n",
    "<img src=\"pics/RMSE.webp\" alt=\"RMSE\" style=\"width: 400px\">"
   ]
  },
  {
   "cell_type": "markdown",
   "metadata": {},
   "source": [
    "但是個體差異值未解決，仍然有可能受outlier影響，因此又出現了MAPE(Mean Absolute Percent Error)\n",
    "\n",
    "<img src=\"pics/MAPE.jpeg\" alt=\"MAPE\" style=\"width: 500px\">"
   ]
  },
  {
   "cell_type": "markdown",
   "metadata": {},
   "source": [
    "### 面試問題\n",
    "\n",
    "今天一家影片串流公司用迴歸模型來預測某部美劇的流量趨勢，無論採用哪種迴歸模型得到的RMSE都很高，但實際上，模型在95%的時間區間，誤差都小於1%，預測結果相當不錯，那麼可能是什麼原因造成RSME居高不下?\n"
   ]
  },
  {
   "cell_type": "markdown",
   "metadata": {},
   "source": [
    "答：\n",
    "\n",
    "在95%的資料點中誤差都小於1％，很有可能是剩下的5％中出現了非常嚴重的離群值。例如流量很容易因為廣告，得獎，或是各類因素爆紅等出現巨大的偏差雜訊，因此處理辦法有三種\n",
    "\n",
    "1. 在資料預處理時加入outlier處理機制\n",
    "2. 使用較不受outlier影響的模型\n",
    "3. 找一個更適合的指標，如MAPE，相比於RSME，MAPE把每個點的誤差都進行正規化，降低了outlier帶來的絕對誤差影響。"
   ]
  }
 ],
 "metadata": {
  "kernelspec": {
   "display_name": "test",
   "language": "python",
   "name": "python3"
  },
  "language_info": {
   "codemirror_mode": {
    "name": "ipython",
    "version": 3
   },
   "file_extension": ".py",
   "mimetype": "text/x-python",
   "name": "python",
   "nbconvert_exporter": "python",
   "pygments_lexer": "ipython3",
   "version": "3.8.17"
  },
  "orig_nbformat": 4
 },
 "nbformat": 4,
 "nbformat_minor": 2
}
