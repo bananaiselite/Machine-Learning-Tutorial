{
 "cells": [
  {
   "cell_type": "markdown",
   "metadata": {},
   "source": [
    "# Regularization"
   ]
  },
  {
   "cell_type": "markdown",
   "metadata": {},
   "source": [
    "在講Regularization前，我們先理解在機器學習的Task上通常會有三種狀況\n",
    "\n",
    "<img src=\"pics/fitting cases.svg\" alt=\"fitting cases\" style=\"width: 600px\">"
   ]
  },
  {
   "cell_type": "markdown",
   "metadata": {},
   "source": [
    "**overfitting**為訓練集表現良好，測試集表現差。\n",
    "\n",
    "**underfitting**為訓練集表差，測試集表現差。\n",
    "\n",
    "在大多數的情況下，我們會著重於**overfitting**的處理，原因很簡單，因為**underfitting**很好處理\n",
    "\n",
    "列出幾點**underfitting**的原因：\n",
    "\n",
    "1. 樣本數過少\n",
    "2. 模型複雜度過低或特徵過少\n",
    "3. 訓練次數過少\n",
    "4. learning rate過大無法收斂\n",
    "\n",
    "對應以上問題的解決的辦法為：\n",
    "\n",
    "1. 增加樣本數\n",
    "2. 增加模型參數或特徵數\n",
    "3. 增加訓練次數\n",
    "4. 調整learning rate\n",
    "\n",
    "很明顯就是頭痛醫頭腳痛醫腳，畢竟這些都不難解決，但是**overfitting**就不一樣了\n",
    "\n"
   ]
  },
  {
   "cell_type": "markdown",
   "metadata": {},
   "source": [
    "以下列出幾點**overfitting**可能的原因：\n",
    "\n",
    "1. 資料噪音過大\n",
    "2. 特徵數過多\n",
    "3. 模型太複雜\n",
    "\n",
    "對應的解決辦法為：\n",
    "\n",
    "1. 在資料前處理中加入噪音清洗的步驟\n",
    "2. 資料處理時加入特徵篩選\n",
    "3. 增加penalty factor，也就是regularization\n",
    "\n",
    "\n",
    "以上的solution雖然看起來也是很直接，但是每一項都需要經驗跟技術。"
   ]
  },
  {
   "cell_type": "markdown",
   "metadata": {},
   "source": [
    "從上所述，我們能理解Regularization是為了防止overfitting所採用的一種手段。\n",
    "\n",
    "\n"
   ]
  },
  {
   "cell_type": "markdown",
   "metadata": {},
   "source": [
    "常用的正規化(Regularization)有三種\n",
    "\n",
    "1. L1(Lasso)\n",
    "\n",
    "2. L2(Ridge)\n",
    "\n",
    "3. Elastic Net Regularization"
   ]
  },
  {
   "cell_type": "markdown",
   "metadata": {},
   "source": [
    "以下我會用linear Regression和Logistic Regression做講解。"
   ]
  },
  {
   "cell_type": "markdown",
   "metadata": {},
   "source": [
    "### L1"
   ]
  },
  {
   "cell_type": "markdown",
   "metadata": {},
   "source": [
    "L1又稱為Lasso，其單獨的攻勢"
   ]
  }
 ],
 "metadata": {
  "language_info": {
   "name": "python"
  }
 },
 "nbformat": 4,
 "nbformat_minor": 2
}
