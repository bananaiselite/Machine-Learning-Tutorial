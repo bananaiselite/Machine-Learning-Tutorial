{
 "cells": [
  {
   "cell_type": "markdown",
   "metadata": {},
   "source": [
    "### 損失函數\n",
    "\n",
    "將資料餵給模型做訓練後，模型會給出他預測的結果，這邊我們叫預測值，我們要怎麼知道這結果好還是不好，當然就是跟現實世界的答案做比較，這邊我們叫實際值。預測值和實際值越相近，那我們會認為模型能力越強(先不考慮過擬合)，這時候就是loss function(損失函數)出場的時候了。"
   ]
  },
  {
   "cell_type": "markdown",
   "metadata": {},
   "source": []
  },
  {
   "cell_type": "code",
   "execution_count": null,
   "metadata": {},
   "outputs": [],
   "source": []
  },
  {
   "cell_type": "code",
   "execution_count": null,
   "metadata": {},
   "outputs": [],
   "source": []
  },
  {
   "cell_type": "code",
   "execution_count": null,
   "metadata": {},
   "outputs": [],
   "source": []
  }
 ],
 "metadata": {
  "language_info": {
   "name": "python"
  },
  "orig_nbformat": 4
 },
 "nbformat": 4,
 "nbformat_minor": 2
}
